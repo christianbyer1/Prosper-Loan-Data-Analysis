{
 "cells": [
  {
   "cell_type": "code",
   "execution_count": 60,
   "metadata": {},
   "outputs": [],
   "source": [
    "# import all packages and set plots to be embedded inline\n",
    "import numpy as np\n",
    "import pandas as pd\n",
    "import matplotlib.pyplot as plt\n",
    "import seaborn as sb\n",
    "\n",
    "%matplotlib inline"
   ]
  },
  {
   "cell_type": "code",
   "execution_count": 61,
   "metadata": {},
   "outputs": [
    {
     "data": {
      "text/html": [
       "<div>\n",
       "<style scoped>\n",
       "    .dataframe tbody tr th:only-of-type {\n",
       "        vertical-align: middle;\n",
       "    }\n",
       "\n",
       "    .dataframe tbody tr th {\n",
       "        vertical-align: top;\n",
       "    }\n",
       "\n",
       "    .dataframe thead th {\n",
       "        text-align: right;\n",
       "    }\n",
       "</style>\n",
       "<table border=\"1\" class=\"dataframe\">\n",
       "  <thead>\n",
       "    <tr style=\"text-align: right;\">\n",
       "      <th></th>\n",
       "      <th>ListingKey</th>\n",
       "      <th>ListingNumber</th>\n",
       "      <th>ListingCreationDate</th>\n",
       "      <th>CreditGrade</th>\n",
       "      <th>Term</th>\n",
       "      <th>LoanStatus</th>\n",
       "      <th>ClosedDate</th>\n",
       "      <th>BorrowerAPR</th>\n",
       "      <th>BorrowerRate</th>\n",
       "      <th>LenderYield</th>\n",
       "      <th>...</th>\n",
       "      <th>LP_ServiceFees</th>\n",
       "      <th>LP_CollectionFees</th>\n",
       "      <th>LP_GrossPrincipalLoss</th>\n",
       "      <th>LP_NetPrincipalLoss</th>\n",
       "      <th>LP_NonPrincipalRecoverypayments</th>\n",
       "      <th>PercentFunded</th>\n",
       "      <th>Recommendations</th>\n",
       "      <th>InvestmentFromFriendsCount</th>\n",
       "      <th>InvestmentFromFriendsAmount</th>\n",
       "      <th>Investors</th>\n",
       "    </tr>\n",
       "  </thead>\n",
       "  <tbody>\n",
       "    <tr>\n",
       "      <th>0</th>\n",
       "      <td>1021339766868145413AB3B</td>\n",
       "      <td>193129</td>\n",
       "      <td>2007-08-26 19:09:29.263000000</td>\n",
       "      <td>C</td>\n",
       "      <td>36</td>\n",
       "      <td>Completed</td>\n",
       "      <td>2009-08-14 00:00:00</td>\n",
       "      <td>0.16516</td>\n",
       "      <td>0.1580</td>\n",
       "      <td>0.1380</td>\n",
       "      <td>...</td>\n",
       "      <td>-133.18</td>\n",
       "      <td>0.0</td>\n",
       "      <td>0.0</td>\n",
       "      <td>0.0</td>\n",
       "      <td>0.0</td>\n",
       "      <td>1.0</td>\n",
       "      <td>0</td>\n",
       "      <td>0</td>\n",
       "      <td>0.0</td>\n",
       "      <td>258</td>\n",
       "    </tr>\n",
       "    <tr>\n",
       "      <th>1</th>\n",
       "      <td>10273602499503308B223C1</td>\n",
       "      <td>1209647</td>\n",
       "      <td>2014-02-27 08:28:07.900000000</td>\n",
       "      <td>NaN</td>\n",
       "      <td>36</td>\n",
       "      <td>Current</td>\n",
       "      <td>NaN</td>\n",
       "      <td>0.12016</td>\n",
       "      <td>0.0920</td>\n",
       "      <td>0.0820</td>\n",
       "      <td>...</td>\n",
       "      <td>0.00</td>\n",
       "      <td>0.0</td>\n",
       "      <td>0.0</td>\n",
       "      <td>0.0</td>\n",
       "      <td>0.0</td>\n",
       "      <td>1.0</td>\n",
       "      <td>0</td>\n",
       "      <td>0</td>\n",
       "      <td>0.0</td>\n",
       "      <td>1</td>\n",
       "    </tr>\n",
       "    <tr>\n",
       "      <th>2</th>\n",
       "      <td>0EE9337825851032864889A</td>\n",
       "      <td>81716</td>\n",
       "      <td>2007-01-05 15:00:47.090000000</td>\n",
       "      <td>HR</td>\n",
       "      <td>36</td>\n",
       "      <td>Completed</td>\n",
       "      <td>2009-12-17 00:00:00</td>\n",
       "      <td>0.28269</td>\n",
       "      <td>0.2750</td>\n",
       "      <td>0.2400</td>\n",
       "      <td>...</td>\n",
       "      <td>-24.20</td>\n",
       "      <td>0.0</td>\n",
       "      <td>0.0</td>\n",
       "      <td>0.0</td>\n",
       "      <td>0.0</td>\n",
       "      <td>1.0</td>\n",
       "      <td>0</td>\n",
       "      <td>0</td>\n",
       "      <td>0.0</td>\n",
       "      <td>41</td>\n",
       "    </tr>\n",
       "    <tr>\n",
       "      <th>3</th>\n",
       "      <td>0EF5356002482715299901A</td>\n",
       "      <td>658116</td>\n",
       "      <td>2012-10-22 11:02:35.010000000</td>\n",
       "      <td>NaN</td>\n",
       "      <td>36</td>\n",
       "      <td>Current</td>\n",
       "      <td>NaN</td>\n",
       "      <td>0.12528</td>\n",
       "      <td>0.0974</td>\n",
       "      <td>0.0874</td>\n",
       "      <td>...</td>\n",
       "      <td>-108.01</td>\n",
       "      <td>0.0</td>\n",
       "      <td>0.0</td>\n",
       "      <td>0.0</td>\n",
       "      <td>0.0</td>\n",
       "      <td>1.0</td>\n",
       "      <td>0</td>\n",
       "      <td>0</td>\n",
       "      <td>0.0</td>\n",
       "      <td>158</td>\n",
       "    </tr>\n",
       "    <tr>\n",
       "      <th>4</th>\n",
       "      <td>0F023589499656230C5E3E2</td>\n",
       "      <td>909464</td>\n",
       "      <td>2013-09-14 18:38:39.097000000</td>\n",
       "      <td>NaN</td>\n",
       "      <td>36</td>\n",
       "      <td>Current</td>\n",
       "      <td>NaN</td>\n",
       "      <td>0.24614</td>\n",
       "      <td>0.2085</td>\n",
       "      <td>0.1985</td>\n",
       "      <td>...</td>\n",
       "      <td>-60.27</td>\n",
       "      <td>0.0</td>\n",
       "      <td>0.0</td>\n",
       "      <td>0.0</td>\n",
       "      <td>0.0</td>\n",
       "      <td>1.0</td>\n",
       "      <td>0</td>\n",
       "      <td>0</td>\n",
       "      <td>0.0</td>\n",
       "      <td>20</td>\n",
       "    </tr>\n",
       "  </tbody>\n",
       "</table>\n",
       "<p>5 rows × 81 columns</p>\n",
       "</div>"
      ],
      "text/plain": [
       "                ListingKey  ListingNumber            ListingCreationDate  \\\n",
       "0  1021339766868145413AB3B         193129  2007-08-26 19:09:29.263000000   \n",
       "1  10273602499503308B223C1        1209647  2014-02-27 08:28:07.900000000   \n",
       "2  0EE9337825851032864889A          81716  2007-01-05 15:00:47.090000000   \n",
       "3  0EF5356002482715299901A         658116  2012-10-22 11:02:35.010000000   \n",
       "4  0F023589499656230C5E3E2         909464  2013-09-14 18:38:39.097000000   \n",
       "\n",
       "  CreditGrade  Term LoanStatus           ClosedDate  BorrowerAPR  \\\n",
       "0           C    36  Completed  2009-08-14 00:00:00      0.16516   \n",
       "1         NaN    36    Current                  NaN      0.12016   \n",
       "2          HR    36  Completed  2009-12-17 00:00:00      0.28269   \n",
       "3         NaN    36    Current                  NaN      0.12528   \n",
       "4         NaN    36    Current                  NaN      0.24614   \n",
       "\n",
       "   BorrowerRate  LenderYield    ...     LP_ServiceFees  LP_CollectionFees  \\\n",
       "0        0.1580       0.1380    ...            -133.18                0.0   \n",
       "1        0.0920       0.0820    ...               0.00                0.0   \n",
       "2        0.2750       0.2400    ...             -24.20                0.0   \n",
       "3        0.0974       0.0874    ...            -108.01                0.0   \n",
       "4        0.2085       0.1985    ...             -60.27                0.0   \n",
       "\n",
       "   LP_GrossPrincipalLoss  LP_NetPrincipalLoss LP_NonPrincipalRecoverypayments  \\\n",
       "0                    0.0                  0.0                             0.0   \n",
       "1                    0.0                  0.0                             0.0   \n",
       "2                    0.0                  0.0                             0.0   \n",
       "3                    0.0                  0.0                             0.0   \n",
       "4                    0.0                  0.0                             0.0   \n",
       "\n",
       "   PercentFunded  Recommendations InvestmentFromFriendsCount  \\\n",
       "0            1.0                0                          0   \n",
       "1            1.0                0                          0   \n",
       "2            1.0                0                          0   \n",
       "3            1.0                0                          0   \n",
       "4            1.0                0                          0   \n",
       "\n",
       "  InvestmentFromFriendsAmount Investors  \n",
       "0                         0.0       258  \n",
       "1                         0.0         1  \n",
       "2                         0.0        41  \n",
       "3                         0.0       158  \n",
       "4                         0.0        20  \n",
       "\n",
       "[5 rows x 81 columns]"
      ]
     },
     "execution_count": 61,
     "metadata": {},
     "output_type": "execute_result"
    }
   ],
   "source": [
    "df = pd.read_csv('prosperLoanData (1).csv')\n",
    "df.head()"
   ]
  },
  {
   "cell_type": "code",
   "execution_count": 62,
   "metadata": {},
   "outputs": [
    {
     "name": "stdout",
     "output_type": "stream",
     "text": [
      "<class 'pandas.core.frame.DataFrame'>\n",
      "RangeIndex: 113937 entries, 0 to 113936\n",
      "Data columns (total 81 columns):\n",
      "ListingKey                             113937 non-null object\n",
      "ListingNumber                          113937 non-null int64\n",
      "ListingCreationDate                    113937 non-null object\n",
      "CreditGrade                            28953 non-null object\n",
      "Term                                   113937 non-null int64\n",
      "LoanStatus                             113937 non-null object\n",
      "ClosedDate                             55089 non-null object\n",
      "BorrowerAPR                            113912 non-null float64\n",
      "BorrowerRate                           113937 non-null float64\n",
      "LenderYield                            113937 non-null float64\n",
      "EstimatedEffectiveYield                84853 non-null float64\n",
      "EstimatedLoss                          84853 non-null float64\n",
      "EstimatedReturn                        84853 non-null float64\n",
      "ProsperRating (numeric)                84853 non-null float64\n",
      "ProsperRating (Alpha)                  84853 non-null object\n",
      "ProsperScore                           84853 non-null float64\n",
      "ListingCategory (numeric)              113937 non-null int64\n",
      "BorrowerState                          108422 non-null object\n",
      "Occupation                             110349 non-null object\n",
      "EmploymentStatus                       111682 non-null object\n",
      "EmploymentStatusDuration               106312 non-null float64\n",
      "IsBorrowerHomeowner                    113937 non-null bool\n",
      "CurrentlyInGroup                       113937 non-null bool\n",
      "GroupKey                               13341 non-null object\n",
      "DateCreditPulled                       113937 non-null object\n",
      "CreditScoreRangeLower                  113346 non-null float64\n",
      "CreditScoreRangeUpper                  113346 non-null float64\n",
      "FirstRecordedCreditLine                113240 non-null object\n",
      "CurrentCreditLines                     106333 non-null float64\n",
      "OpenCreditLines                        106333 non-null float64\n",
      "TotalCreditLinespast7years             113240 non-null float64\n",
      "OpenRevolvingAccounts                  113937 non-null int64\n",
      "OpenRevolvingMonthlyPayment            113937 non-null float64\n",
      "InquiriesLast6Months                   113240 non-null float64\n",
      "TotalInquiries                         112778 non-null float64\n",
      "CurrentDelinquencies                   113240 non-null float64\n",
      "AmountDelinquent                       106315 non-null float64\n",
      "DelinquenciesLast7Years                112947 non-null float64\n",
      "PublicRecordsLast10Years               113240 non-null float64\n",
      "PublicRecordsLast12Months              106333 non-null float64\n",
      "RevolvingCreditBalance                 106333 non-null float64\n",
      "BankcardUtilization                    106333 non-null float64\n",
      "AvailableBankcardCredit                106393 non-null float64\n",
      "TotalTrades                            106393 non-null float64\n",
      "TradesNeverDelinquent (percentage)     106393 non-null float64\n",
      "TradesOpenedLast6Months                106393 non-null float64\n",
      "DebtToIncomeRatio                      105383 non-null float64\n",
      "IncomeRange                            113937 non-null object\n",
      "IncomeVerifiable                       113937 non-null bool\n",
      "StatedMonthlyIncome                    113937 non-null float64\n",
      "LoanKey                                113937 non-null object\n",
      "TotalProsperLoans                      22085 non-null float64\n",
      "TotalProsperPaymentsBilled             22085 non-null float64\n",
      "OnTimeProsperPayments                  22085 non-null float64\n",
      "ProsperPaymentsLessThanOneMonthLate    22085 non-null float64\n",
      "ProsperPaymentsOneMonthPlusLate        22085 non-null float64\n",
      "ProsperPrincipalBorrowed               22085 non-null float64\n",
      "ProsperPrincipalOutstanding            22085 non-null float64\n",
      "ScorexChangeAtTimeOfListing            18928 non-null float64\n",
      "LoanCurrentDaysDelinquent              113937 non-null int64\n",
      "LoanFirstDefaultedCycleNumber          16952 non-null float64\n",
      "LoanMonthsSinceOrigination             113937 non-null int64\n",
      "LoanNumber                             113937 non-null int64\n",
      "LoanOriginalAmount                     113937 non-null int64\n",
      "LoanOriginationDate                    113937 non-null object\n",
      "LoanOriginationQuarter                 113937 non-null object\n",
      "MemberKey                              113937 non-null object\n",
      "MonthlyLoanPayment                     113937 non-null float64\n",
      "LP_CustomerPayments                    113937 non-null float64\n",
      "LP_CustomerPrincipalPayments           113937 non-null float64\n",
      "LP_InterestandFees                     113937 non-null float64\n",
      "LP_ServiceFees                         113937 non-null float64\n",
      "LP_CollectionFees                      113937 non-null float64\n",
      "LP_GrossPrincipalLoss                  113937 non-null float64\n",
      "LP_NetPrincipalLoss                    113937 non-null float64\n",
      "LP_NonPrincipalRecoverypayments        113937 non-null float64\n",
      "PercentFunded                          113937 non-null float64\n",
      "Recommendations                        113937 non-null int64\n",
      "InvestmentFromFriendsCount             113937 non-null int64\n",
      "InvestmentFromFriendsAmount            113937 non-null float64\n",
      "Investors                              113937 non-null int64\n",
      "dtypes: bool(3), float64(50), int64(11), object(17)\n",
      "memory usage: 68.1+ MB\n"
     ]
    }
   ],
   "source": [
    "# get overview of the shape and composition of the dataset\n",
    "df.info()"
   ]
  },
  {
   "cell_type": "markdown",
   "metadata": {},
   "source": [
    "### What is the structure of the dataset?\n",
    "\n",
    "The dataset is constructed of almost 114,000 entries and 81 variables.  About half of the variables in this analysis are numeric while the other half is categorical.  Some of the numeric variables are Loan Original Amount, Income Range, and Borrower APR.  Some of the categorical variables are Credit Grade, Prosper Rating Alpha, and Loan Status"
   ]
  },
  {
   "cell_type": "markdown",
   "metadata": {},
   "source": [
    "### What is/are the main feature(s) of interest in your dataset?¶\n",
    "\n",
    "Im most interested in how borrower characteristics have changed over time.  Also which borrower characteristics pose the greatest risk."
   ]
  },
  {
   "cell_type": "markdown",
   "metadata": {},
   "source": [
    "### What features in the dataset do you think will help support your investigation into your feature(s) of interest?¶\n",
    "\n",
    "I think Loan Status feature that helps me along with the borrower characteristics.  Loan status will tell me if the loan was in good standing or not and will allow me to spot what trends lean towards good standing or not"
   ]
  },
  {
   "cell_type": "code",
   "execution_count": null,
   "metadata": {},
   "outputs": [],
   "source": []
  },
  {
   "cell_type": "markdown",
   "metadata": {},
   "source": [
    "# Univariate Exploration"
   ]
  },
  {
   "cell_type": "code",
   "execution_count": 63,
   "metadata": {},
   "outputs": [
    {
     "data": {
      "text/plain": [
       "dtype('O')"
      ]
     },
     "execution_count": 63,
     "metadata": {},
     "output_type": "execute_result"
    }
   ],
   "source": [
    "df['LoanOriginationQuarter'].dtype"
   ]
  },
  {
   "cell_type": "code",
   "execution_count": 64,
   "metadata": {},
   "outputs": [],
   "source": [
    "df_copy = df # make copy of data frame"
   ]
  },
  {
   "cell_type": "code",
   "execution_count": 65,
   "metadata": {},
   "outputs": [],
   "source": [
    "# put column in datetime\n",
    "df_copy['LoanOriginationQuarter'] = pd.to_datetime([\n",
    "    '-'.join(x.split()[::-1]) for x in df_copy['LoanOriginationQuarter']])\n",
    "# put column in datetime with quarter number\n",
    "df_copy['LoanOriginationQuarter'] = df_copy['LoanOriginationQuarter'].dt.to_period('Q')\n",
    "\n"
   ]
  },
  {
   "cell_type": "code",
   "execution_count": 66,
   "metadata": {
    "scrolled": false
   },
   "outputs": [
    {
     "data": {
      "image/png": "[encoded data removed]",
      "text/plain": [
       "<Figure size 720x360 with 1 Axes>"
      ]
     },
     "metadata": {
      "needs_background": "light"
     },
     "output_type": "display_data"
    }
   ],
   "source": [
    "plt.figure(figsize = [10,5])\n",
    "base_color = sb.color_palette()[0]\n",
    "sb.countplot(data = df_copy.sort_values('LoanOriginationQuarter'), x = 'LoanOriginationQuarter', color = base_color)\n",
    "plt.xticks(rotation = 90);"
   ]
  },
  {
   "cell_type": "code",
   "execution_count": null,
   "metadata": {},
   "outputs": [],
   "source": []
  },
  {
   "cell_type": "markdown",
   "metadata": {},
   "source": [
    "The graph shows a a general increase from q1 2006 to q3 2008 before seeing a huge dip in q4 2008 til q3 2009.  In 2010 there was a steady growth, a dip in q1 2013 before huge growth after that nearly doubling."
   ]
  },
  {
   "cell_type": "code",
   "execution_count": 67,
   "metadata": {},
   "outputs": [
    {
     "data": {
      "text/plain": [
       "array([ 0,  2, 16,  1,  7, 13,  6, 15, 20, 19,  3, 18,  8,  4, 11, 14,  5,\n",
       "        9, 17, 10, 12], dtype=int64)"
      ]
     },
     "execution_count": 67,
     "metadata": {},
     "output_type": "execute_result"
    }
   ],
   "source": [
    "df_copy['ListingCategory (numeric)'].unique()"
   ]
  },
  {
   "cell_type": "code",
   "execution_count": 68,
   "metadata": {},
   "outputs": [],
   "source": [
    "# convert listing category from numbers to the name they represent\n",
    "\n",
    "def change_to_name(df_copy):\n",
    "    if df_copy['ListingCategory (numeric)'] == 0:\n",
    "        return 'Not Available'\n",
    "    elif df_copy['ListingCategory (numeric)'] == 1:\n",
    "        return 'Debt Consolidation'\n",
    "    elif df_copy['ListingCategory (numeric)'] == 2:\n",
    "        return 'Home Improvement'\n",
    "    elif df_copy['ListingCategory (numeric)'] == 3:\n",
    "        return 'Business'\n",
    "    elif df_copy['ListingCategory (numeric)'] == 4:\n",
    "        return 'Personal Loan'\n",
    "    elif df_copy['ListingCategory (numeric)'] == 5:\n",
    "        return 'Student Use'\n",
    "    elif df_copy['ListingCategory (numeric)'] == 6:\n",
    "        return 'Auto'\n",
    "    elif df_copy['ListingCategory (numeric)'] == 7:\n",
    "        return 'Other'\n",
    "    elif df_copy['ListingCategory (numeric)'] == 9:\n",
    "        return 'Baby and Adoption'\n",
    "    elif df_copy['ListingCategory (numeric)'] == 10:\n",
    "        return 'Boat'\n",
    "    elif df_copy['ListingCategory (numeric)'] == 11:\n",
    "        return 'Cosmetic Procedure'\n",
    "    elif df_copy['ListingCategory (numeric)'] == 12:\n",
    "        return 'Green Loans'\n",
    "    elif df_copy['ListingCategory (numeric)'] == 13:\n",
    "        return 'Houshold Expenses'\n",
    "    elif df_copy['ListingCategory (numeric)'] == 14:\n",
    "        return 'Large Purchases'\n",
    "    elif df_copy['ListingCategory (numeric)'] == 15:\n",
    "        return 'Medical/Dental'\n",
    "    elif df_copy['ListingCategory (numeric)'] == 16:\n",
    "        return 'Motorcycle'\n",
    "    elif df_copy['ListingCategory (numeric)'] == 17:\n",
    "        return 'RV'\n",
    "    elif df_copy['ListingCategory (numeric)'] == 18:\n",
    "        return 'Taxes'\n",
    "    elif df_copy['ListingCategory (numeric)'] == 19:\n",
    "        return 'Vacation'\n",
    "    elif df_copy['ListingCategory (numeric)'] == 20:\n",
    "        return 'Wedding Loans'\n",
    "    else:\n",
    "        return df_copy['ListingCategory (numeric)']\n",
    "   \n",
    "\n",
    "df_copy['ListingCategory(name)'] = df_copy.apply(change_to_name, axis = 1)"
   ]
  },
  {
   "cell_type": "code",
   "execution_count": 69,
   "metadata": {},
   "outputs": [
    {
     "data": {
      "image/png": "[encoded data removed]",
      "text/plain": [
       "<Figure size 720x360 with 1 Axes>"
      ]
     },
     "metadata": {
      "needs_background": "light"
     },
     "output_type": "display_data"
    }
   ],
   "source": [
    "# plot the listing category name\n",
    "plt.figure(figsize = [10,5])\n",
    "base_color = sb.color_palette()[0]\n",
    "cat_order = df_copy['ListingCategory(name)'].value_counts().index\n",
    "sb.countplot(data = df_copy, x = 'ListingCategory(name)', color = base_color,\n",
    "            order = cat_order)\n",
    "plt.xticks(rotation = 90);"
   ]
  },
  {
   "cell_type": "markdown",
   "metadata": {},
   "source": [
    "The vast majority of loans taken out were for debt consolidation"
   ]
  },
  {
   "cell_type": "code",
   "execution_count": 70,
   "metadata": {},
   "outputs": [
    {
     "data": {
      "image/png": "[encoded data removed]",
      "text/plain": [
       "<Figure size 432x288 with 1 Axes>"
      ]
     },
     "metadata": {
      "needs_background": "light"
     },
     "output_type": "display_data"
    }
   ],
   "source": [
    "# plot Borrower Rate\n",
    "bins = np.arange(0, df['BorrowerRate'].max() + 0.025, 0.025)\n",
    "plt.hist(data = df_copy, x = 'BorrowerRate', bins = bins);\n",
    "plt.xlabel('BorrowerRate')\n",
    "plt.show()"
   ]
  },
  {
   "cell_type": "code",
   "execution_count": 72,
   "metadata": {},
   "outputs": [
    {
     "data": {
      "text/plain": [
       "count    113937.000000\n",
       "mean          0.192764\n",
       "std           0.074818\n",
       "min           0.000000\n",
       "25%           0.134000\n",
       "50%           0.184000\n",
       "75%           0.250000\n",
       "max           0.497500\n",
       "Name: BorrowerRate, dtype: float64"
      ]
     },
     "execution_count": 72,
     "metadata": {},
     "output_type": "execute_result"
    }
   ],
   "source": [
    "df_copy['BorrowerRate'].describe()"
   ]
  },
  {
   "cell_type": "markdown",
   "metadata": {},
   "source": [
    "The interest rates on the loans are very high.  The average interest rate on these loans is 19.28%.  The interests rates for the loans are almost as high as a credit card.  Must figure out the reason for debt consolidation loan with a similair interest rate as a credit card."
   ]
  },
  {
   "cell_type": "code",
   "execution_count": 71,
   "metadata": {},
   "outputs": [
    {
     "data": {
      "text/plain": [
       "array(['$25,000-49,999', '$50,000-74,999', 'Not displayed', '$100,000+',\n",
       "       '$75,000-99,999', '$1-24,999', 'Not employed', '$0'], dtype=object)"
      ]
     },
     "execution_count": 71,
     "metadata": {},
     "output_type": "execute_result"
    }
   ],
   "source": [
    "df_copy['IncomeRange'].unique()"
   ]
  },
  {
   "cell_type": "code",
   "execution_count": 74,
   "metadata": {},
   "outputs": [
    {
     "data": {
      "image/png": "[encoded data removed]",
      "text/plain": [
       "<Figure size 432x288 with 1 Axes>"
      ]
     },
     "metadata": {
      "needs_background": "light"
     },
     "output_type": "display_data"
    }
   ],
   "source": [
    "# plot income range\n",
    "#create order \n",
    "Ranges = ['Not displayed', 'Not Employed', '$0', '$1-24,999', '$25,000-49,999', \n",
    "                 '$50,000-74,999', '$75,000-99,999', '$100,000+']\n",
    "\n",
    "pd_ver = pd.__version__.split(\".\")\n",
    "if (int(pd_ver[0]) > 0) or (int(pd_ver[1]) >= 21):\n",
    "    income_ranges = pd.api.types.CategoricalDtype(ordered =True, categories = Ranges)\n",
    "    df_copy['IncomeRange'] = df_copy['IncomeRange'].astype(income_ranges)\n",
    "else: # pre-v0.21\n",
    "    df['IncomeRange'] = df['IncomeRange'].astype('category', ordered = True,\n",
    "                                                categories = Ranges)\n",
    "    \n",
    "    #df_sub = df.loc[df['IncomeRange'].isin]\n",
    "base_color = sb.color_palette()[0]\n",
    "sb.countplot(data = df_copy, y = 'IncomeRange', color = base_color);\n"
   ]
  },
  {
   "cell_type": "markdown",
   "metadata": {},
   "source": [
    "The majority of the borrowers make less than 75k per year.  Could be the reason they see the need to take out loans"
   ]
  },
  {
   "cell_type": "code",
   "execution_count": 73,
   "metadata": {},
   "outputs": [
    {
     "data": {
      "image/png": "[encoded data removed]",
      "text/plain": [
       "<Figure size 720x360 with 1 Axes>"
      ]
     },
     "metadata": {
      "needs_background": "light"
     },
     "output_type": "display_data"
    }
   ],
   "source": [
    "# plot the listing borrower state\n",
    "plt.figure(figsize = [10,5])\n",
    "base_color = sb.color_palette()[0]\n",
    "state_order = df_copy['BorrowerState'].value_counts().index\n",
    "sb.countplot(data = df_copy, x = 'BorrowerState', color = base_color,\n",
    "            order = state_order)\n",
    "plt.xticks(rotation = 90);"
   ]
  },
  {
   "cell_type": "markdown",
   "metadata": {},
   "source": [
    "The states with the most borrowers are California, Texas, New York, and Florida. Income range by state is an area of interest.  "
   ]
  },
  {
   "cell_type": "code",
   "execution_count": 75,
   "metadata": {},
   "outputs": [
    {
     "data": {
      "image/png": "[encoded data removed]",
      "text/plain": [
       "<Figure size 432x288 with 1 Axes>"
      ]
     },
     "metadata": {
      "needs_background": "light"
     },
     "output_type": "display_data"
    }
   ],
   "source": [
    "# plot loan original amount\n",
    "#plt.figure(figsize = [10,5])\n",
    "\n",
    "#plt.subplot(1,1,1)\n",
    "bins = np.arange(1000, df_copy['LoanOriginalAmount'].max() + 1000, 1000)\n",
    "plt.hist(data = df_copy, x = 'LoanOriginalAmount', bins = bins);\n",
    "plt.xlabel('LoanOriginalAmount')\n",
    "plt.ylabel('Count')\n",
    "plt.show()\n",
    "\n",
    "#plt.subplot(1,2,2)\n",
    "\n",
    "\n"
   ]
  },
  {
   "cell_type": "code",
   "execution_count": 76,
   "metadata": {},
   "outputs": [
    {
     "data": {
      "image/png": "[encoded data removed]",
      "text/plain": [
       "<Figure size 432x288 with 1 Axes>"
      ]
     },
     "metadata": {
      "needs_background": "light"
     },
     "output_type": "display_data"
    }
   ],
   "source": [
    "#create plot for variable in log form\n",
    "bins = 10 ** np.arange(3, 4.54 + 0.1, 0.1)\n",
    "\n",
    "ticks = [1000, 3000, 10000, 30000]\n",
    "labels = ['{}'.format(val) for val in ticks]\n",
    "\n",
    "plt.hist(data = df_copy, x = 'LoanOriginalAmount', bins = bins);\n",
    "plt.xscale('log')\n",
    "plt.xticks(ticks, labels);\n"
   ]
  },
  {
   "cell_type": "code",
   "execution_count": 78,
   "metadata": {},
   "outputs": [
    {
     "data": {
      "text/plain": [
       "count    113937.00000\n",
       "mean       8337.01385\n",
       "std        6245.80058\n",
       "min        1000.00000\n",
       "25%        4000.00000\n",
       "50%        6500.00000\n",
       "75%       12000.00000\n",
       "max       35000.00000\n",
       "Name: LoanOriginalAmount, dtype: float64"
      ]
     },
     "execution_count": 78,
     "metadata": {},
     "output_type": "execute_result"
    }
   ],
   "source": [
    "#get stats for column\n",
    "df_copy['LoanOriginalAmount'].describe()"
   ]
  },
  {
   "cell_type": "code",
   "execution_count": 77,
   "metadata": {},
   "outputs": [
    {
     "data": {
      "text/plain": [
       "count    5.056665\n",
       "mean     3.921011\n",
       "std      3.795588\n",
       "min      3.000000\n",
       "25%      3.602060\n",
       "50%      3.812913\n",
       "75%      4.079181\n",
       "max      4.544068\n",
       "Name: LoanOriginalAmount, dtype: float64"
      ]
     },
     "execution_count": 77,
     "metadata": {},
     "output_type": "execute_result"
    }
   ],
   "source": [
    "# get stats for column in log10\n",
    "np.log10(df_copy['LoanOriginalAmount'].describe())"
   ]
  },
  {
   "cell_type": "markdown",
   "metadata": {},
   "source": [
    "The data for average loan amount is a little bit skewed to the left.  The average loan amount is $ 8,337 dollars. The maximum loan amount is $35,000 but the vast majority fall under $ 15,000 dollars"
   ]
  },
  {
   "cell_type": "code",
   "execution_count": 80,
   "metadata": {},
   "outputs": [
    {
     "data": {
      "text/plain": [
       "count    113937.000000\n",
       "mean        272.475783\n",
       "std         192.697812\n",
       "min           0.000000\n",
       "25%         131.620000\n",
       "50%         217.740000\n",
       "75%         371.580000\n",
       "max        2251.510000\n",
       "Name: MonthlyLoanPayment, dtype: float64"
      ]
     },
     "execution_count": 80,
     "metadata": {},
     "output_type": "execute_result"
    }
   ],
   "source": [
    "df_copy['MonthlyLoanPayment'].describe()"
   ]
  },
  {
   "cell_type": "code",
   "execution_count": 79,
   "metadata": {},
   "outputs": [
    {
     "data": {
      "image/png": "[encoded data removed]",
      "text/plain": [
       "<Figure size 432x288 with 1 Axes>"
      ]
     },
     "metadata": {
      "needs_background": "light"
     },
     "output_type": "display_data"
    }
   ],
   "source": [
    "bins = np.arange(0, df_copy['MonthlyLoanPayment'].max() + 50, 50)\n",
    "plt.hist(data = df_copy, x = 'MonthlyLoanPayment', bins = bins);\n",
    "plt.xlabel('MonthlyLoanPayment')\n",
    "plt.ylabel('Count')\n",
    "plt.show()\n"
   ]
  },
  {
   "cell_type": "code",
   "execution_count": 81,
   "metadata": {},
   "outputs": [
    {
     "data": {
      "text/plain": [
       "217.74"
      ]
     },
     "execution_count": 81,
     "metadata": {},
     "output_type": "execute_result"
    }
   ],
   "source": [
    "df_copy['MonthlyLoanPayment'].median()"
   ]
  },
  {
   "cell_type": "markdown",
   "metadata": {},
   "source": [
    "The data is skewed to the right. The median payment is 217 dollars and athe average payment is 272 dollars"
   ]
  },
  {
   "cell_type": "code",
   "execution_count": 82,
   "metadata": {},
   "outputs": [
    {
     "data": {
      "image/png": "[encoded data removed]",
      "text/plain": [
       "<Figure size 432x288 with 1 Axes>"
      ]
     },
     "metadata": {
      "needs_background": "light"
     },
     "output_type": "display_data"
    }
   ],
   "source": [
    "bins = np.arange(0, df_copy['CreditScoreRangeUpper'].max() + 25, 25)\n",
    "plt.hist(data = df_copy, x = 'CreditScoreRangeUpper', bins = bins);\n",
    "plt.xlabel('CreditScoreRangeUpper')\n",
    "plt.ylabel('Count')\n",
    "plt.show()"
   ]
  },
  {
   "cell_type": "code",
   "execution_count": 83,
   "metadata": {},
   "outputs": [
    {
     "data": {
      "image/png": "[encoded data removed]",
      "text/plain": [
       "<Figure size 432x288 with 1 Axes>"
      ]
     },
     "metadata": {
      "needs_background": "light"
     },
     "output_type": "display_data"
    }
   ],
   "source": [
    "bins = np.arange(0, df_copy['CreditScoreRangeLower'].max() + 25, 25)\n",
    "plt.hist(data = df_copy, x = 'CreditScoreRangeLower', bins = bins);\n",
    "plt.xlabel('CreditScoreRangeLower')\n",
    "plt.ylabel('Count')\n",
    "plt.show()"
   ]
  },
  {
   "cell_type": "code",
   "execution_count": 84,
   "metadata": {},
   "outputs": [
    {
     "data": {
      "text/plain": [
       "count    113346.000000\n",
       "mean        685.567731\n",
       "std          66.458275\n",
       "min           0.000000\n",
       "25%         660.000000\n",
       "50%         680.000000\n",
       "75%         720.000000\n",
       "max         880.000000\n",
       "Name: CreditScoreRangeLower, dtype: float64"
      ]
     },
     "execution_count": 84,
     "metadata": {},
     "output_type": "execute_result"
    }
   ],
   "source": [
    "df_copy['CreditScoreRangeLower'].describe()"
   ]
  },
  {
   "cell_type": "code",
   "execution_count": 85,
   "metadata": {},
   "outputs": [
    {
     "data": {
      "text/plain": [
       "count    113346.000000\n",
       "mean        704.567731\n",
       "std          66.458275\n",
       "min          19.000000\n",
       "25%         679.000000\n",
       "50%         699.000000\n",
       "75%         739.000000\n",
       "max         899.000000\n",
       "Name: CreditScoreRangeUpper, dtype: float64"
      ]
     },
     "execution_count": 85,
     "metadata": {},
     "output_type": "execute_result"
    }
   ],
   "source": [
    "df_copy['CreditScoreRangeUpper'].describe()"
   ]
  },
  {
   "cell_type": "code",
   "execution_count": null,
   "metadata": {},
   "outputs": [],
   "source": []
  },
  {
   "cell_type": "markdown",
   "metadata": {},
   "source": [
    "The credit score ranges are normally distributed.  Area of interest is how they correlate to the Prosper Score rating which is how Prosper determines risk."
   ]
  },
  {
   "cell_type": "code",
   "execution_count": 86,
   "metadata": {},
   "outputs": [
    {
     "data": {
      "image/png": "[encoded data removed]",
      "text/plain": [
       "<Figure size 432x288 with 1 Axes>"
      ]
     },
     "metadata": {
      "needs_background": "light"
     },
     "output_type": "display_data"
    }
   ],
   "source": [
    "bins = np.arange(0, df_copy['CreditScoreRangeLower'].max() + 25, 25)\n",
    "plt.hist(data = df_copy, x = 'CreditScoreRangeLower', bins = bins);\n",
    "plt.xlabel('CreditScoreRangeLower')\n",
    "plt.ylabel('Count')\n",
    "plt.show()\n",
    "\n"
   ]
  },
  {
   "cell_type": "code",
   "execution_count": 87,
   "metadata": {},
   "outputs": [
    {
     "data": {
      "text/plain": [
       "count    105383.000000\n",
       "mean          0.275947\n",
       "std           0.551759\n",
       "min           0.000000\n",
       "25%           0.140000\n",
       "50%           0.220000\n",
       "75%           0.320000\n",
       "max          10.010000\n",
       "Name: DebtToIncomeRatio, dtype: float64"
      ]
     },
     "execution_count": 87,
     "metadata": {},
     "output_type": "execute_result"
    }
   ],
   "source": [
    "df_copy['DebtToIncomeRatio'].describe()"
   ]
  },
  {
   "cell_type": "code",
   "execution_count": 88,
   "metadata": {},
   "outputs": [
    {
     "data": {
      "image/png": "[encoded data removed]",
      "text/plain": [
       "<Figure size 432x288 with 1 Axes>"
      ]
     },
     "metadata": {
      "needs_background": "light"
     },
     "output_type": "display_data"
    }
   ],
   "source": [
    "bins = np.arange(0, df_copy['DebtToIncomeRatio'].max() + 0.5, 0.5)\n",
    "plt.hist(data = df_copy, x ='DebtToIncomeRatio', bins = bins)\n",
    "plt.xlabel('DebtToIncomeRatio')\n",
    "plt.ylabel('Count')\n",
    "plt.show();"
   ]
  },
  {
   "cell_type": "markdown",
   "metadata": {},
   "source": [
    "Data heavily skewed to the right.  75 percent of the data is less than 1  and the max is 10.  Not sure of the reason but 10 is an outlier and requires further investigation but will be removed for now."
   ]
  },
  {
   "cell_type": "code",
   "execution_count": 89,
   "metadata": {},
   "outputs": [
    {
     "data": {
      "image/png": "[encoded data removed]",
      "text/plain": [
       "<Figure size 432x288 with 1 Axes>"
      ]
     },
     "metadata": {
      "needs_background": "light"
     },
     "output_type": "display_data"
    }
   ],
   "source": [
    "bins = np.arange(0, df_copy['DebtToIncomeRatio'].max() + 0.025, 0.025)\n",
    "plt.hist(data = df_copy, x ='DebtToIncomeRatio', bins = bins)\n",
    "plt.xlim(0,1.5)\n",
    "plt.xlabel('DebtToIncomeRatio')\n",
    "plt.ylabel('Count')\n",
    "plt.show();"
   ]
  },
  {
   "cell_type": "markdown",
   "metadata": {},
   "source": [
    "Data looks evenly distributed after removing the outliers."
   ]
  },
  {
   "cell_type": "code",
   "execution_count": null,
   "metadata": {},
   "outputs": [],
   "source": []
  },
  {
   "cell_type": "code",
   "execution_count": 90,
   "metadata": {},
   "outputs": [
    {
     "data": {
      "text/plain": [
       "array(['C', nan, 'HR', 'AA', 'D', 'B', 'E', 'A', 'NC'], dtype=object)"
      ]
     },
     "execution_count": 90,
     "metadata": {},
     "output_type": "execute_result"
    }
   ],
   "source": [
    "df_copy['CreditGrade'].unique()"
   ]
  },
  {
   "cell_type": "code",
   "execution_count": 91,
   "metadata": {},
   "outputs": [
    {
     "data": {
      "text/plain": [
       "array([nan, 'A', 'D', 'B', 'E', 'C', 'AA', 'HR'], dtype=object)"
      ]
     },
     "execution_count": 91,
     "metadata": {},
     "output_type": "execute_result"
    }
   ],
   "source": [
    "df_copy['ProsperRating (Alpha)'].unique()"
   ]
  },
  {
   "cell_type": "code",
   "execution_count": 92,
   "metadata": {},
   "outputs": [
    {
     "data": {
      "image/png": "[encoded data removed]",
      "text/plain": [
       "<Figure size 432x288 with 1 Axes>"
      ]
     },
     "metadata": {
      "needs_background": "light"
     },
     "output_type": "display_data"
    }
   ],
   "source": [
    "# plot credit grade\n",
    "\n",
    "ranges = ['AA', 'A', 'B', 'C', 'D', 'E', 'HR', 'NC']\n",
    "\n",
    "pd_ver = pd.__version__.split(\".\")\n",
    "if (int(pd_ver[0]) > 0) or (int(pd_ver[1]) >=21):\n",
    "    credit_grade_ranges = pd.api.types.CategoricalDtype(ordered = True, categories = ranges)\n",
    "    df_copy['CreditGrade'] = df_copy['CreditGrade'].astype(credit_grade_ranges)\n",
    "else: # pre - v0.21\n",
    "    df_copy['CreditGrade'] = df_copy['CreditGrade'].astype('category', ordered = True, categories = ranges)\n",
    "    \n",
    "base_color = sb.color_palette()[0]\n",
    "sb.countplot(data = df_copy, x = 'CreditGrade', color = base_color);"
   ]
  },
  {
   "cell_type": "code",
   "execution_count": 93,
   "metadata": {},
   "outputs": [
    {
     "data": {
      "image/png": "[encoded data removed]",
      "text/plain": [
       "<Figure size 432x288 with 1 Axes>"
      ]
     },
     "metadata": {
      "needs_background": "light"
     },
     "output_type": "display_data"
    }
   ],
   "source": [
    "# plot Prosper Rating \n",
    "\n",
    "ranges = ['AA', 'A', 'B', 'C', 'D', 'E', 'HR', 'NC']\n",
    "\n",
    "pd_ver = pd.__version__.split(\".\")\n",
    "if (int(pd_ver[0]) > 0) or (int(pd_ver[1]) >=21):\n",
    "    credit_grade_ranges = pd.api.types.CategoricalDtype(ordered = True, categories = ranges)\n",
    "    df_copy['ProsperRating (Alpha)'] = df_copy['ProsperRating (Alpha)'].astype(credit_grade_ranges)\n",
    "else: # pre - v0.21\n",
    "    df_copy['ProsperRating (Alpha)'] = df_copy['ProsperRating (Alpha)'].astype('category', ordered = True, categories = ranges)\n",
    "    \n",
    "base_color = sb.color_palette()[0]\n",
    "sb.countplot(data = df_copy, x = 'ProsperRating (Alpha)', color = base_color);"
   ]
  },
  {
   "cell_type": "code",
   "execution_count": 94,
   "metadata": {},
   "outputs": [
    {
     "data": {
      "image/png": "[encoded data removed]",
      "text/plain": [
       "<Figure size 432x288 with 1 Axes>"
      ]
     },
     "metadata": {
      "needs_background": "light"
     },
     "output_type": "display_data"
    }
   ],
   "source": [
    "bin_edges = np.arange(0, df_copy['ProsperScore'].max() + 1, 0.5) \n",
    "base_color = sb.color_palette()[0]\n",
    "plt.hist(data = df_copy, x = 'ProsperScore', color = base_color, bins = bin_edges);"
   ]
  },
  {
   "cell_type": "markdown",
   "metadata": {},
   "source": [
    "Prosper Score is  a custom risk score ranging from 1-10 with 10 being the best or lowest risk score.  The data shows the distribution of scores is evenly distributed."
   ]
  },
  {
   "cell_type": "markdown",
   "metadata": {},
   "source": [
    "Prosper Rating was the new name for credit range.  The change was made at some point that is not specified."
   ]
  },
  {
   "cell_type": "code",
   "execution_count": 95,
   "metadata": {},
   "outputs": [
    {
     "data": {
      "image/png": "[encoded data removed]",
      "text/plain": [
       "<Figure size 432x288 with 1 Axes>"
      ]
     },
     "metadata": {
      "needs_background": "light"
     },
     "output_type": "display_data"
    }
   ],
   "source": [
    "#plot for Loan status\n",
    "\n",
    "ranges = ['Completed', 'Current', 'Chargedoff', 'FinalPaymentInProgress', 'Defaulted', 'Cancelled', 'Past Due (1-15 days)',\n",
    "'Past Due (16-30 days)', 'Past Due (31-60 days)', 'Past Due (61-90 days)', 'Past Due (91-120 days)']\n",
    "\n",
    "pd_ver = pd.__version__.split(\".\")\n",
    "if (int(pd_ver[0]) > 0) or (int(pd_ver[1]) >=21):\n",
    "    LoanStatus_ranges = pd.api.types.CategoricalDtype(ordered = True, categories = ranges)\n",
    "    df_copy['LoanStatus'] = df_copy['LoanStatus'].astype(LoanStatus_ranges)\n",
    "else: # pre - v0.21\n",
    "    df_copy['LoanStatus'] = df_copy['LoanStatus'].astype('category', ordered = True, categories = ranges)\n",
    "    \n",
    "base_color = sb.color_palette()[0]\n",
    "sb.countplot(data = df_copy, x = 'LoanStatus', color = base_color)\n",
    "plt.xticks(rotation = 90);"
   ]
  },
  {
   "cell_type": "code",
   "execution_count": 97,
   "metadata": {},
   "outputs": [
    {
     "data": {
      "text/plain": [
       "Current                   56576\n",
       "Completed                 38074\n",
       "Chargedoff                11992\n",
       "Defaulted                  5018\n",
       "Past Due (1-15 days)        806\n",
       "Past Due (31-60 days)       363\n",
       "Past Due (61-90 days)       313\n",
       "Past Due (91-120 days)      304\n",
       "Past Due (16-30 days)       265\n",
       "FinalPaymentInProgress      205\n",
       "Cancelled                     5\n",
       "Name: LoanStatus, dtype: int64"
      ]
     },
     "execution_count": 97,
     "metadata": {},
     "output_type": "execute_result"
    }
   ],
   "source": [
    "df_copy['LoanStatus'].value_counts()"
   ]
  },
  {
   "cell_type": "markdown",
   "metadata": {},
   "source": [
    "Vast majority of loans are either current or completed.  There is a large number of loans that have either defaulted or were charged-off."
   ]
  },
  {
   "cell_type": "code",
   "execution_count": 96,
   "metadata": {},
   "outputs": [
    {
     "data": {
      "text/plain": [
       "16"
      ]
     },
     "execution_count": 96,
     "metadata": {},
     "output_type": "execute_result"
    }
   ],
   "source": [
    "sum(df['LoanStatus'].isnull())"
   ]
  },
  {
   "cell_type": "code",
   "execution_count": 100,
   "metadata": {},
   "outputs": [
    {
     "data": {
      "text/plain": [
       "Employed         67322\n",
       "Full-time        26355\n",
       "Self-employed     6134\n",
       "Other             3806\n",
       "Part-time         1088\n",
       "Retired            795\n",
       "Not-employed         0\n",
       "Name: EmploymentStatus, dtype: int64"
      ]
     },
     "execution_count": 100,
     "metadata": {},
     "output_type": "execute_result"
    }
   ],
   "source": [
    "df['EmploymentStatus'].value_counts()"
   ]
  },
  {
   "cell_type": "code",
   "execution_count": null,
   "metadata": {},
   "outputs": [],
   "source": []
  },
  {
   "cell_type": "code",
   "execution_count": 99,
   "metadata": {},
   "outputs": [
    {
     "data": {
      "image/png": "[encoded data removed]",
      "text/plain": [
       "<Figure size 432x288 with 1 Axes>"
      ]
     },
     "metadata": {
      "needs_background": "light"
     },
     "output_type": "display_data"
    }
   ],
   "source": [
    "# plot Employment status\n",
    "\n",
    "ranges = ['Employed', 'Full-time', 'Part-time', 'Self-employed', 'Not-employed', 'Retired', 'Other']\n",
    "\n",
    "pd_ver = pd.__version__.split(\".\")\n",
    "if (int(pd_ver[0]) > 0) or (int(pd_ver[1]) >=21):\n",
    "    EmploymentStatus_ranges = pd.api.types.CategoricalDtype(ordered = True, categories = ranges)\n",
    "    df_copy['EmploymentStatus'] = df_copy['EmploymentStatus'].astype(EmploymentStatus_ranges)\n",
    "else: # pre - v0.21\n",
    "    df_copy['EmploymentStatus'] = df_copy['EmploymentStatus'].astype('category', ordered = True, categories = ranges)\n",
    "    \n",
    "base_color = sb.color_palette()[0]\n",
    "sb.countplot(data = df_copy, x = 'EmploymentStatus', color = base_color)\n",
    "plt.xticks(rotation = 90);"
   ]
  },
  {
   "cell_type": "code",
   "execution_count": 98,
   "metadata": {},
   "outputs": [
    {
     "data": {
      "text/plain": [
       "count    106312.000000\n",
       "mean         96.071582\n",
       "std          94.480605\n",
       "min           0.000000\n",
       "25%          26.000000\n",
       "50%          67.000000\n",
       "75%         137.000000\n",
       "max         755.000000\n",
       "Name: EmploymentStatusDuration, dtype: float64"
      ]
     },
     "execution_count": 98,
     "metadata": {},
     "output_type": "execute_result"
    }
   ],
   "source": [
    "df_copy['EmploymentStatusDuration'].describe()"
   ]
  },
  {
   "cell_type": "code",
   "execution_count": 103,
   "metadata": {},
   "outputs": [
    {
     "name": "stderr",
     "output_type": "stream",
     "text": [
      "C:\\Users\\ChristianByer\\Anaconda2\\lib\\site-packages\\ipykernel_launcher.py:1: RuntimeWarning: divide by zero encountered in log10\n",
      "  \"\"\"Entry point for launching an IPython kernel.\n"
     ]
    },
    {
     "data": {
      "text/plain": [
       "count    5.026582\n",
       "mean     1.982595\n",
       "std      1.975343\n",
       "min          -inf\n",
       "25%      1.414973\n",
       "50%      1.826075\n",
       "75%      2.136721\n",
       "max      2.877947\n",
       "Name: EmploymentStatusDuration, dtype: float64"
      ]
     },
     "execution_count": 103,
     "metadata": {},
     "output_type": "execute_result"
    }
   ],
   "source": [
    "np.log10(df_copy['EmploymentStatusDuration'].describe())"
   ]
  },
  {
   "cell_type": "code",
   "execution_count": 102,
   "metadata": {},
   "outputs": [
    {
     "data": {
      "image/png": "[encoded data removed]",
      "text/plain": [
       "<Figure size 432x288 with 1 Axes>"
      ]
     },
     "metadata": {
      "needs_background": "light"
     },
     "output_type": "display_data"
    }
   ],
   "source": [
    "# plot employment status duration\n",
    "\n",
    "bins = np.arange(0, df_copy['EmploymentStatusDuration'].max() + 50, 50)\n",
    "plt.hist(data = df_copy, x = 'EmploymentStatusDuration', bins = bins);\n",
    "plt.xlabel('EmploymentStatusDuration')\n",
    "plt.show()"
   ]
  },
  {
   "cell_type": "markdown",
   "metadata": {},
   "source": [
    "Employment status duration is calculated in months.  Risk facters associated with employment status duration is an area of interest.  "
   ]
  },
  {
   "cell_type": "code",
   "execution_count": 101,
   "metadata": {},
   "outputs": [
    {
     "data": {
      "image/png": "[encoded data removed]",
      "text/plain": [
       "<Figure size 432x288 with 1 Axes>"
      ]
     },
     "metadata": {
      "needs_background": "light"
     },
     "output_type": "display_data"
    }
   ],
   "source": [
    "#employment status duration with log transformation\n",
    "bins = 10 ** np.arange(0, 2.87 + 0.05, 0.05)\n",
    "\n",
    "ticks = [1, 3, 10, 30, 100, 300, 1000]\n",
    "labels = ['{}'.format(val) for val in ticks]\n",
    "\n",
    "plt.hist(data = df_copy, x = 'EmploymentStatusDuration', bins = bins);\n",
    "plt.xscale('log')\n",
    "plt.xticks(ticks, labels);\n",
    "\n"
   ]
  },
  {
   "cell_type": "code",
   "execution_count": 104,
   "metadata": {},
   "outputs": [
    {
     "data": {
      "text/plain": [
       "dtype('float64')"
      ]
     },
     "execution_count": 104,
     "metadata": {},
     "output_type": "execute_result"
    }
   ],
   "source": [
    "df_copy['CurrentCreditLines'].dtypes"
   ]
  },
  {
   "cell_type": "code",
   "execution_count": 107,
   "metadata": {},
   "outputs": [
    {
     "name": "stderr",
     "output_type": "stream",
     "text": [
      "C:\\Users\\ChristianByer\\Anaconda2\\lib\\site-packages\\ipykernel_launcher.py:1: RuntimeWarning: divide by zero encountered in log10\n",
      "  \"\"\"Entry point for launching an IPython kernel.\n"
     ]
    },
    {
     "data": {
      "text/plain": [
       "count    5.026668\n",
       "mean     1.013562\n",
       "std      0.737023\n",
       "min          -inf\n",
       "25%      0.845098\n",
       "50%      1.000000\n",
       "75%      1.113943\n",
       "max      1.770852\n",
       "Name: CurrentCreditLines, dtype: float64"
      ]
     },
     "execution_count": 107,
     "metadata": {},
     "output_type": "execute_result"
    }
   ],
   "source": [
    "np.log10(df_copy['CurrentCreditLines'].describe())"
   ]
  },
  {
   "cell_type": "code",
   "execution_count": 106,
   "metadata": {},
   "outputs": [
    {
     "data": {
      "image/png": "[encoded data removed]",
      "text/plain": [
       "<Figure size 432x288 with 1 Axes>"
      ]
     },
     "metadata": {
      "needs_background": "light"
     },
     "output_type": "display_data"
    }
   ],
   "source": [
    "# plot current credit lines\n",
    "bins = np.arange(0, df_copy['CurrentCreditLines'].max() +1, 1)\n",
    "\n",
    "plt.hist(data = df_copy, x = 'CurrentCreditLines', bins = bins);"
   ]
  },
  {
   "cell_type": "markdown",
   "metadata": {},
   "source": []
  },
  {
   "cell_type": "code",
   "execution_count": 105,
   "metadata": {},
   "outputs": [
    {
     "data": {
      "image/png": "[encoded data removed]",
      "text/plain": [
       "<Figure size 576x360 with 1 Axes>"
      ]
     },
     "metadata": {
      "needs_background": "light"
     },
     "output_type": "display_data"
    }
   ],
   "source": [
    "# there is a long tail distribution, let's put it in log scale\n",
    "\n",
    "log_binsize = 0.05\n",
    "bins = 10 ** np.arange(0, np.log10(df_copy['CurrentCreditLines'].max()) +\n",
    "                       log_binsize, log_binsize)\n",
    "\n",
    "plt.figure(figsize = [8,5])\n",
    "plt.hist(data = df_copy, x = 'CurrentCreditLines', bins = bins)\n",
    "plt.xscale('log')\n",
    "plt.xticks([1, 1e1, 1e2], [1, '10', '100'])\n",
    "plt.xlabel('Current Credit Lines')\n",
    "plt.show();"
   ]
  },
  {
   "cell_type": "code",
   "execution_count": 110,
   "metadata": {},
   "outputs": [
    {
     "data": {
      "text/plain": [
       "count    113240.000000\n",
       "mean          1.435085\n",
       "std           2.437507\n",
       "min           0.000000\n",
       "25%           0.000000\n",
       "50%           1.000000\n",
       "75%           2.000000\n",
       "max         105.000000\n",
       "Name: InquiriesLast6Months, dtype: float64"
      ]
     },
     "execution_count": 110,
     "metadata": {},
     "output_type": "execute_result"
    }
   ],
   "source": [
    "df_copy['InquiriesLast6Months'].describe()"
   ]
  },
  {
   "cell_type": "code",
   "execution_count": 109,
   "metadata": {},
   "outputs": [
    {
     "data": {
      "text/plain": [
       "(array([1.11916e+05, 1.13000e+03, 1.60000e+02, 2.40000e+01, 6.00000e+00,\n",
       "        1.00000e+00, 1.00000e+00, 0.00000e+00, 0.00000e+00, 2.00000e+00]),\n",
       " array([  0. ,  10.5,  21. ,  31.5,  42. ,  52.5,  63. ,  73.5,  84. ,\n",
       "         94.5, 105. ]),\n",
       " <a list of 10 Patch objects>)"
      ]
     },
     "execution_count": 109,
     "metadata": {},
     "output_type": "execute_result"
    },
    {
     "data": {
      "image/png": "[encoded data removed]",
      "text/plain": [
       "<Figure size 432x288 with 1 Axes>"
      ]
     },
     "metadata": {
      "needs_background": "light"
     },
     "output_type": "display_data"
    }
   ],
   "source": [
    "plt.hist(data = df_copy, x = 'InquiriesLast6Months')"
   ]
  },
  {
   "cell_type": "code",
   "execution_count": 108,
   "metadata": {},
   "outputs": [
    {
     "data": {
      "image/png": "[encoded data removed]",
      "text/plain": [
       "<Figure size 576x360 with 1 Axes>"
      ]
     },
     "metadata": {
      "needs_background": "light"
     },
     "output_type": "display_data"
    }
   ],
   "source": [
    "# scale transformation\n",
    "log_binsize = 0.1\n",
    "bins = 10 ** np.arange(0, np.log10(df_copy['InquiriesLast6Months'].max()) +\n",
    "                       log_binsize, log_binsize)\n",
    "\n",
    "plt.figure(figsize = [8,5])\n",
    "plt.hist(data = df_copy, x = 'InquiriesLast6Months', bins = bins)\n",
    "plt.xscale('log')\n",
    "plt.xticks([1, 1e1, 1e2], [1, '10', '100'])\n",
    "plt.xlabel('Inquiries Last 6 Months')\n",
    "plt.show();"
   ]
  },
  {
   "cell_type": "code",
   "execution_count": 112,
   "metadata": {},
   "outputs": [
    {
     "data": {
      "text/plain": [
       "count    113240.000000\n",
       "mean          0.592052\n",
       "std           1.978707\n",
       "min           0.000000\n",
       "25%           0.000000\n",
       "50%           0.000000\n",
       "75%           0.000000\n",
       "max          83.000000\n",
       "Name: CurrentDelinquencies, dtype: float64"
      ]
     },
     "execution_count": 112,
     "metadata": {},
     "output_type": "execute_result"
    }
   ],
   "source": [
    "df_copy['CurrentDelinquencies'].describe()"
   ]
  },
  {
   "cell_type": "code",
   "execution_count": 111,
   "metadata": {},
   "outputs": [
    {
     "data": {
      "text/plain": [
       "(array([1.11812e+05, 1.16200e+03, 2.05000e+02, 4.40000e+01, 9.00000e+00,\n",
       "        1.00000e+00, 3.00000e+00, 2.00000e+00, 0.00000e+00, 2.00000e+00]),\n",
       " array([ 0. ,  8.3, 16.6, 24.9, 33.2, 41.5, 49.8, 58.1, 66.4, 74.7, 83. ]),\n",
       " <a list of 10 Patch objects>)"
      ]
     },
     "execution_count": 111,
     "metadata": {},
     "output_type": "execute_result"
    },
    {
     "data": {
      "image/png": "[encoded data removed]",
      "text/plain": [
       "<Figure size 432x288 with 1 Axes>"
      ]
     },
     "metadata": {
      "needs_background": "light"
     },
     "output_type": "display_data"
    }
   ],
   "source": [
    "plt.hist(data = df_copy, x = 'CurrentDelinquencies')"
   ]
  },
  {
   "cell_type": "markdown",
   "metadata": {},
   "source": [
    "Borrower characateristics such as current delinquencies, Current Credit Lines, and Inquiries last six months are areas of interest.  I want to see how these variables correlate with how the loans are performing."
   ]
  },
  {
   "cell_type": "markdown",
   "metadata": {},
   "source": [
    "# Univariate Analysis"
   ]
  },
  {
   "cell_type": "markdown",
   "metadata": {},
   "source": [
    "### Discuss the distribution(s) of your variable(s) of interest. Were there any unusual points? Did you need to perform any transformations?¶\n",
    "\n"
   ]
  },
  {
   "cell_type": "markdown",
   "metadata": {},
   "source": [
    "The loan original amount variable was highly skewed to the right.  I used a log transformation and the data resembeled more of a normal curve although there were large spikes at the 5k, 10k, 15k dollar mark.\n",
    "\n",
    "The debt to income ratio also had an outlier of 10.00.  The vast majority of the data had a ratio of less than 1.  After excluding that outlier the data resembled a normal curve when plotted."
   ]
  },
  {
   "cell_type": "markdown",
   "metadata": {},
   "source": [
    "### Of the features you investigated, were there any unusual distributions? Did you perform any operations on the data to tidy, adjust, or change the form of the data? If so, why did you do this?¶\n"
   ]
  },
  {
   "cell_type": "markdown",
   "metadata": {},
   "source": [
    "For the borrower characteristics such as Income Range, Prosper Score, Loan Status I had to change the data type to category to be able to graph it appropriately. \n",
    "\n",
    "I also had to clean the Listing Category variable by converting it from interger data type to its corresponding name as a string data type.\n",
    "\n",
    "The most unsusual distribution was the dip in number of opened loans in the year 2009. At all other times the number of opend loans saw a steady increase."
   ]
  },
  {
   "cell_type": "markdown",
   "metadata": {},
   "source": [
    "# Bivariate Exploration"
   ]
  },
  {
   "cell_type": "markdown",
   "metadata": {},
   "source": [
    "The key variable for any business is profit.  We will start there with the net principal loss over time."
   ]
  },
  {
   "cell_type": "code",
   "execution_count": 115,
   "metadata": {},
   "outputs": [
    {
     "data": {
      "image/png": "[encoded data removed]",
      "text/plain": [
       "<Figure size 720x360 with 1 Axes>"
      ]
     },
     "metadata": {
      "needs_background": "light"
     },
     "output_type": "display_data"
    }
   ],
   "source": [
    "plt.figure(figsize = [10,5])\n",
    "df_copy.groupby('LoanOriginationQuarter')['LP_NetPrincipalLoss'].mean().plot()\n",
    "plt.ylabel('Avg Net Principal Loss');"
   ]
  },
  {
   "cell_type": "markdown",
   "metadata": {},
   "source": [
    "The data shows that losses went up from 2006 to 2008 with a large dip in 2009.  After that dip in 2009 they have held steady and not climbed back up to the average before 2009. The area of interest is what happened in 2009 that caused the change?"
   ]
  },
  {
   "cell_type": "markdown",
   "metadata": {},
   "source": [
    "Next we will look at borrower characteristics over time to see if there was any change before and after 2009.\n",
    "\n",
    "We will start with credit score."
   ]
  },
  {
   "cell_type": "code",
   "execution_count": 114,
   "metadata": {},
   "outputs": [
    {
     "data": {
      "image/png": "[encoded data removed]",
      "text/plain": [
       "<Figure size 720x360 with 1 Axes>"
      ]
     },
     "metadata": {
      "needs_background": "light"
     },
     "output_type": "display_data"
    }
   ],
   "source": [
    "# box plot loan origination quarter by credit score range lower\n",
    "plt.figure(figsize = [10,5])\n",
    "base_color = sb.color_palette()[0]\n",
    "sb.boxplot(data = df_copy.sort_values('LoanOriginationQuarter'), \n",
    "              x = 'LoanOriginationQuarter', y = 'CreditScoreRangeLower',\n",
    "          color = base_color)\n",
    "plt.xticks(rotation = 90);\n"
   ]
  },
  {
   "cell_type": "markdown",
   "metadata": {},
   "source": [
    "It looks like there was no minimun credit score before 2007 as loans were opend up with a credit score of 0.  The credit score average steadily rose until 2009 and after that remained steady.  This lends me to believe a minimum credit score was set in place as of 2009.  This makes sense as principal loss went down at the same time.  The analysis is makes sense as borrowers with higher credit scores carry less risk and are more likely to pay back the loans."
   ]
  },
  {
   "cell_type": "markdown",
   "metadata": {},
   "source": [
    "Now we will look at debt-to-income ratio."
   ]
  },
  {
   "cell_type": "code",
   "execution_count": 113,
   "metadata": {},
   "outputs": [
    {
     "data": {
      "image/png": "[encoded data removed]",
      "text/plain": [
       "<Figure size 432x288 with 1 Axes>"
      ]
     },
     "metadata": {
      "needs_background": "light"
     },
     "output_type": "display_data"
    }
   ],
   "source": [
    "df_copy.groupby('LoanOriginationQuarter')['DebtToIncomeRatio'].mean().plot()\n",
    "plt.ylabel('Avg Debt to Income Ratio');"
   ]
  },
  {
   "cell_type": "markdown",
   "metadata": {},
   "source": [
    "There was a large spike betweet 2006 and 2008.  After 2009 it remained steady.  The trend is showing Prosper having stricter policies for giving out loans after 2009."
   ]
  },
  {
   "cell_type": "markdown",
   "metadata": {},
   "source": [
    "Now we will look at how loans are actually performing. If a loan is paid off or current it will be categorized as \"Achieving\".  If if is anything else including defaulted or charged-off it will be categorized as \"Non-Achieving\"."
   ]
  },
  {
   "cell_type": "code",
   "execution_count": 117,
   "metadata": {},
   "outputs": [
    {
     "data": {
      "text/plain": [
       "Achieving        94855\n",
       "Non-Achieving    19082\n",
       "Name: LoanStatus, dtype: int64"
      ]
     },
     "execution_count": 117,
     "metadata": {},
     "output_type": "execute_result"
    }
   ],
   "source": [
    "def change_to_name(df_copy):\n",
    "    if df_copy['LoanStatus'] == 'Completed':\n",
    "        return 'Achieving'\n",
    "    elif df_copy['LoanStatus'] == 'Current':\n",
    "        return 'Achieving'\n",
    "    elif df_copy['LoanStatus'] == 'FinalPaymentInProgress':\n",
    "        return 'Achieving'\n",
    "    else:\n",
    "        return 'Non-Achieving'\n",
    "        \n",
    "# create different values for loan status\n",
    "df_copy['LoanStatus'] = df_copy.apply(change_to_name, axis = 1)\n",
    "df_copy['LoanStatus'].value_counts()"
   ]
  },
  {
   "cell_type": "code",
   "execution_count": 119,
   "metadata": {},
   "outputs": [
    {
     "data": {
      "text/html": [
       "<div>\n",
       "<style scoped>\n",
       "    .dataframe tbody tr th:only-of-type {\n",
       "        vertical-align: middle;\n",
       "    }\n",
       "\n",
       "    .dataframe tbody tr th {\n",
       "        vertical-align: top;\n",
       "    }\n",
       "\n",
       "    .dataframe thead th {\n",
       "        text-align: right;\n",
       "    }\n",
       "</style>\n",
       "<table border=\"1\" class=\"dataframe\">\n",
       "  <thead>\n",
       "    <tr style=\"text-align: right;\">\n",
       "      <th></th>\n",
       "      <th>LoanOriginationQuarter</th>\n",
       "      <th>LoanStatus</th>\n",
       "      <th>count</th>\n",
       "    </tr>\n",
       "  </thead>\n",
       "  <tbody>\n",
       "    <tr>\n",
       "      <th>0</th>\n",
       "      <td>2005Q4</td>\n",
       "      <td>Achieving</td>\n",
       "      <td>22</td>\n",
       "    </tr>\n",
       "    <tr>\n",
       "      <th>1</th>\n",
       "      <td>2006Q1</td>\n",
       "      <td>Achieving</td>\n",
       "      <td>229</td>\n",
       "    </tr>\n",
       "    <tr>\n",
       "      <th>2</th>\n",
       "      <td>2006Q1</td>\n",
       "      <td>Non-Achieving</td>\n",
       "      <td>86</td>\n",
       "    </tr>\n",
       "    <tr>\n",
       "      <th>3</th>\n",
       "      <td>2006Q2</td>\n",
       "      <td>Achieving</td>\n",
       "      <td>810</td>\n",
       "    </tr>\n",
       "    <tr>\n",
       "      <th>4</th>\n",
       "      <td>2006Q2</td>\n",
       "      <td>Non-Achieving</td>\n",
       "      <td>444</td>\n",
       "    </tr>\n",
       "    <tr>\n",
       "      <th>5</th>\n",
       "      <td>2006Q3</td>\n",
       "      <td>Achieving</td>\n",
       "      <td>1165</td>\n",
       "    </tr>\n",
       "    <tr>\n",
       "      <th>6</th>\n",
       "      <td>2006Q3</td>\n",
       "      <td>Non-Achieving</td>\n",
       "      <td>769</td>\n",
       "    </tr>\n",
       "    <tr>\n",
       "      <th>7</th>\n",
       "      <td>2006Q4</td>\n",
       "      <td>Achieving</td>\n",
       "      <td>1373</td>\n",
       "    </tr>\n",
       "    <tr>\n",
       "      <th>8</th>\n",
       "      <td>2006Q4</td>\n",
       "      <td>Non-Achieving</td>\n",
       "      <td>1030</td>\n",
       "    </tr>\n",
       "    <tr>\n",
       "      <th>9</th>\n",
       "      <td>2007Q1</td>\n",
       "      <td>Achieving</td>\n",
       "      <td>1788</td>\n",
       "    </tr>\n",
       "    <tr>\n",
       "      <th>10</th>\n",
       "      <td>2007Q1</td>\n",
       "      <td>Non-Achieving</td>\n",
       "      <td>1291</td>\n",
       "    </tr>\n",
       "    <tr>\n",
       "      <th>11</th>\n",
       "      <td>2007Q2</td>\n",
       "      <td>Achieving</td>\n",
       "      <td>1853</td>\n",
       "    </tr>\n",
       "    <tr>\n",
       "      <th>12</th>\n",
       "      <td>2007Q2</td>\n",
       "      <td>Non-Achieving</td>\n",
       "      <td>1265</td>\n",
       "    </tr>\n",
       "    <tr>\n",
       "      <th>13</th>\n",
       "      <td>2007Q3</td>\n",
       "      <td>Achieving</td>\n",
       "      <td>1629</td>\n",
       "    </tr>\n",
       "    <tr>\n",
       "      <th>14</th>\n",
       "      <td>2007Q3</td>\n",
       "      <td>Non-Achieving</td>\n",
       "      <td>1042</td>\n",
       "    </tr>\n",
       "    <tr>\n",
       "      <th>15</th>\n",
       "      <td>2007Q4</td>\n",
       "      <td>Achieving</td>\n",
       "      <td>1666</td>\n",
       "    </tr>\n",
       "    <tr>\n",
       "      <th>16</th>\n",
       "      <td>2007Q4</td>\n",
       "      <td>Non-Achieving</td>\n",
       "      <td>926</td>\n",
       "    </tr>\n",
       "    <tr>\n",
       "      <th>17</th>\n",
       "      <td>2008Q1</td>\n",
       "      <td>Achieving</td>\n",
       "      <td>2038</td>\n",
       "    </tr>\n",
       "    <tr>\n",
       "      <th>18</th>\n",
       "      <td>2008Q1</td>\n",
       "      <td>Non-Achieving</td>\n",
       "      <td>1036</td>\n",
       "    </tr>\n",
       "    <tr>\n",
       "      <th>19</th>\n",
       "      <td>2008Q2</td>\n",
       "      <td>Achieving</td>\n",
       "      <td>2867</td>\n",
       "    </tr>\n",
       "    <tr>\n",
       "      <th>20</th>\n",
       "      <td>2008Q2</td>\n",
       "      <td>Non-Achieving</td>\n",
       "      <td>1477</td>\n",
       "    </tr>\n",
       "    <tr>\n",
       "      <th>21</th>\n",
       "      <td>2008Q3</td>\n",
       "      <td>Achieving</td>\n",
       "      <td>2455</td>\n",
       "    </tr>\n",
       "    <tr>\n",
       "      <th>22</th>\n",
       "      <td>2008Q3</td>\n",
       "      <td>Non-Achieving</td>\n",
       "      <td>1147</td>\n",
       "    </tr>\n",
       "    <tr>\n",
       "      <th>23</th>\n",
       "      <td>2008Q4</td>\n",
       "      <td>Achieving</td>\n",
       "      <td>383</td>\n",
       "    </tr>\n",
       "    <tr>\n",
       "      <th>24</th>\n",
       "      <td>2008Q4</td>\n",
       "      <td>Non-Achieving</td>\n",
       "      <td>149</td>\n",
       "    </tr>\n",
       "    <tr>\n",
       "      <th>25</th>\n",
       "      <td>2009Q2</td>\n",
       "      <td>Achieving</td>\n",
       "      <td>10</td>\n",
       "    </tr>\n",
       "    <tr>\n",
       "      <th>26</th>\n",
       "      <td>2009Q2</td>\n",
       "      <td>Non-Achieving</td>\n",
       "      <td>3</td>\n",
       "    </tr>\n",
       "    <tr>\n",
       "      <th>27</th>\n",
       "      <td>2009Q3</td>\n",
       "      <td>Achieving</td>\n",
       "      <td>502</td>\n",
       "    </tr>\n",
       "    <tr>\n",
       "      <th>28</th>\n",
       "      <td>2009Q3</td>\n",
       "      <td>Non-Achieving</td>\n",
       "      <td>83</td>\n",
       "    </tr>\n",
       "    <tr>\n",
       "      <th>29</th>\n",
       "      <td>2009Q4</td>\n",
       "      <td>Achieving</td>\n",
       "      <td>1224</td>\n",
       "    </tr>\n",
       "    <tr>\n",
       "      <th>...</th>\n",
       "      <td>...</td>\n",
       "      <td>...</td>\n",
       "      <td>...</td>\n",
       "    </tr>\n",
       "    <tr>\n",
       "      <th>35</th>\n",
       "      <td>2010Q3</td>\n",
       "      <td>Achieving</td>\n",
       "      <td>1073</td>\n",
       "    </tr>\n",
       "    <tr>\n",
       "      <th>36</th>\n",
       "      <td>2010Q3</td>\n",
       "      <td>Non-Achieving</td>\n",
       "      <td>197</td>\n",
       "    </tr>\n",
       "    <tr>\n",
       "      <th>37</th>\n",
       "      <td>2010Q4</td>\n",
       "      <td>Achieving</td>\n",
       "      <td>1309</td>\n",
       "    </tr>\n",
       "    <tr>\n",
       "      <th>38</th>\n",
       "      <td>2010Q4</td>\n",
       "      <td>Non-Achieving</td>\n",
       "      <td>291</td>\n",
       "    </tr>\n",
       "    <tr>\n",
       "      <th>39</th>\n",
       "      <td>2011Q1</td>\n",
       "      <td>Achieving</td>\n",
       "      <td>1401</td>\n",
       "    </tr>\n",
       "    <tr>\n",
       "      <th>40</th>\n",
       "      <td>2011Q1</td>\n",
       "      <td>Non-Achieving</td>\n",
       "      <td>343</td>\n",
       "    </tr>\n",
       "    <tr>\n",
       "      <th>41</th>\n",
       "      <td>2011Q2</td>\n",
       "      <td>Achieving</td>\n",
       "      <td>1874</td>\n",
       "    </tr>\n",
       "    <tr>\n",
       "      <th>42</th>\n",
       "      <td>2011Q2</td>\n",
       "      <td>Non-Achieving</td>\n",
       "      <td>604</td>\n",
       "    </tr>\n",
       "    <tr>\n",
       "      <th>43</th>\n",
       "      <td>2011Q3</td>\n",
       "      <td>Achieving</td>\n",
       "      <td>2422</td>\n",
       "    </tr>\n",
       "    <tr>\n",
       "      <th>44</th>\n",
       "      <td>2011Q3</td>\n",
       "      <td>Non-Achieving</td>\n",
       "      <td>671</td>\n",
       "    </tr>\n",
       "    <tr>\n",
       "      <th>45</th>\n",
       "      <td>2011Q4</td>\n",
       "      <td>Achieving</td>\n",
       "      <td>3091</td>\n",
       "    </tr>\n",
       "    <tr>\n",
       "      <th>46</th>\n",
       "      <td>2011Q4</td>\n",
       "      <td>Non-Achieving</td>\n",
       "      <td>822</td>\n",
       "    </tr>\n",
       "    <tr>\n",
       "      <th>47</th>\n",
       "      <td>2012Q1</td>\n",
       "      <td>Achieving</td>\n",
       "      <td>3535</td>\n",
       "    </tr>\n",
       "    <tr>\n",
       "      <th>48</th>\n",
       "      <td>2012Q1</td>\n",
       "      <td>Non-Achieving</td>\n",
       "      <td>900</td>\n",
       "    </tr>\n",
       "    <tr>\n",
       "      <th>49</th>\n",
       "      <td>2012Q2</td>\n",
       "      <td>Achieving</td>\n",
       "      <td>4076</td>\n",
       "    </tr>\n",
       "    <tr>\n",
       "      <th>50</th>\n",
       "      <td>2012Q2</td>\n",
       "      <td>Non-Achieving</td>\n",
       "      <td>985</td>\n",
       "    </tr>\n",
       "    <tr>\n",
       "      <th>51</th>\n",
       "      <td>2012Q3</td>\n",
       "      <td>Achieving</td>\n",
       "      <td>4647</td>\n",
       "    </tr>\n",
       "    <tr>\n",
       "      <th>52</th>\n",
       "      <td>2012Q3</td>\n",
       "      <td>Non-Achieving</td>\n",
       "      <td>985</td>\n",
       "    </tr>\n",
       "    <tr>\n",
       "      <th>53</th>\n",
       "      <td>2012Q4</td>\n",
       "      <td>Achieving</td>\n",
       "      <td>3801</td>\n",
       "    </tr>\n",
       "    <tr>\n",
       "      <th>54</th>\n",
       "      <td>2012Q4</td>\n",
       "      <td>Non-Achieving</td>\n",
       "      <td>624</td>\n",
       "    </tr>\n",
       "    <tr>\n",
       "      <th>55</th>\n",
       "      <td>2013Q1</td>\n",
       "      <td>Achieving</td>\n",
       "      <td>3314</td>\n",
       "    </tr>\n",
       "    <tr>\n",
       "      <th>56</th>\n",
       "      <td>2013Q1</td>\n",
       "      <td>Non-Achieving</td>\n",
       "      <td>302</td>\n",
       "    </tr>\n",
       "    <tr>\n",
       "      <th>57</th>\n",
       "      <td>2013Q2</td>\n",
       "      <td>Achieving</td>\n",
       "      <td>6695</td>\n",
       "    </tr>\n",
       "    <tr>\n",
       "      <th>58</th>\n",
       "      <td>2013Q2</td>\n",
       "      <td>Non-Achieving</td>\n",
       "      <td>404</td>\n",
       "    </tr>\n",
       "    <tr>\n",
       "      <th>59</th>\n",
       "      <td>2013Q3</td>\n",
       "      <td>Achieving</td>\n",
       "      <td>8895</td>\n",
       "    </tr>\n",
       "    <tr>\n",
       "      <th>60</th>\n",
       "      <td>2013Q3</td>\n",
       "      <td>Non-Achieving</td>\n",
       "      <td>285</td>\n",
       "    </tr>\n",
       "    <tr>\n",
       "      <th>61</th>\n",
       "      <td>2013Q4</td>\n",
       "      <td>Achieving</td>\n",
       "      <td>14230</td>\n",
       "    </tr>\n",
       "    <tr>\n",
       "      <th>62</th>\n",
       "      <td>2013Q4</td>\n",
       "      <td>Non-Achieving</td>\n",
       "      <td>220</td>\n",
       "    </tr>\n",
       "    <tr>\n",
       "      <th>63</th>\n",
       "      <td>2014Q1</td>\n",
       "      <td>Achieving</td>\n",
       "      <td>12153</td>\n",
       "    </tr>\n",
       "    <tr>\n",
       "      <th>64</th>\n",
       "      <td>2014Q1</td>\n",
       "      <td>Non-Achieving</td>\n",
       "      <td>19</td>\n",
       "    </tr>\n",
       "  </tbody>\n",
       "</table>\n",
       "<p>65 rows × 3 columns</p>\n",
       "</div>"
      ],
      "text/plain": [
       "   LoanOriginationQuarter     LoanStatus  count\n",
       "0                  2005Q4      Achieving     22\n",
       "1                  2006Q1      Achieving    229\n",
       "2                  2006Q1  Non-Achieving     86\n",
       "3                  2006Q2      Achieving    810\n",
       "4                  2006Q2  Non-Achieving    444\n",
       "5                  2006Q3      Achieving   1165\n",
       "6                  2006Q3  Non-Achieving    769\n",
       "7                  2006Q4      Achieving   1373\n",
       "8                  2006Q4  Non-Achieving   1030\n",
       "9                  2007Q1      Achieving   1788\n",
       "10                 2007Q1  Non-Achieving   1291\n",
       "11                 2007Q2      Achieving   1853\n",
       "12                 2007Q2  Non-Achieving   1265\n",
       "13                 2007Q3      Achieving   1629\n",
       "14                 2007Q3  Non-Achieving   1042\n",
       "15                 2007Q4      Achieving   1666\n",
       "16                 2007Q4  Non-Achieving    926\n",
       "17                 2008Q1      Achieving   2038\n",
       "18                 2008Q1  Non-Achieving   1036\n",
       "19                 2008Q2      Achieving   2867\n",
       "20                 2008Q2  Non-Achieving   1477\n",
       "21                 2008Q3      Achieving   2455\n",
       "22                 2008Q3  Non-Achieving   1147\n",
       "23                 2008Q4      Achieving    383\n",
       "24                 2008Q4  Non-Achieving    149\n",
       "25                 2009Q2      Achieving     10\n",
       "26                 2009Q2  Non-Achieving      3\n",
       "27                 2009Q3      Achieving    502\n",
       "28                 2009Q3  Non-Achieving     83\n",
       "29                 2009Q4      Achieving   1224\n",
       "..                    ...            ...    ...\n",
       "35                 2010Q3      Achieving   1073\n",
       "36                 2010Q3  Non-Achieving    197\n",
       "37                 2010Q4      Achieving   1309\n",
       "38                 2010Q4  Non-Achieving    291\n",
       "39                 2011Q1      Achieving   1401\n",
       "40                 2011Q1  Non-Achieving    343\n",
       "41                 2011Q2      Achieving   1874\n",
       "42                 2011Q2  Non-Achieving    604\n",
       "43                 2011Q3      Achieving   2422\n",
       "44                 2011Q3  Non-Achieving    671\n",
       "45                 2011Q4      Achieving   3091\n",
       "46                 2011Q4  Non-Achieving    822\n",
       "47                 2012Q1      Achieving   3535\n",
       "48                 2012Q1  Non-Achieving    900\n",
       "49                 2012Q2      Achieving   4076\n",
       "50                 2012Q2  Non-Achieving    985\n",
       "51                 2012Q3      Achieving   4647\n",
       "52                 2012Q3  Non-Achieving    985\n",
       "53                 2012Q4      Achieving   3801\n",
       "54                 2012Q4  Non-Achieving    624\n",
       "55                 2013Q1      Achieving   3314\n",
       "56                 2013Q1  Non-Achieving    302\n",
       "57                 2013Q2      Achieving   6695\n",
       "58                 2013Q2  Non-Achieving    404\n",
       "59                 2013Q3      Achieving   8895\n",
       "60                 2013Q3  Non-Achieving    285\n",
       "61                 2013Q4      Achieving  14230\n",
       "62                 2013Q4  Non-Achieving    220\n",
       "63                 2014Q1      Achieving  12153\n",
       "64                 2014Q1  Non-Achieving     19\n",
       "\n",
       "[65 rows x 3 columns]"
      ]
     },
     "execution_count": 119,
     "metadata": {},
     "output_type": "execute_result"
    }
   ],
   "source": [
    "#create new dataframe that with columns of interest\n",
    "\n",
    "dfnew = (pd.DataFrame({'count' : df_copy.groupby(['LoanOriginationQuarter', 'LoanStatus']).size()}))\n",
    "dfnew = dfnew.reset_index()\n",
    "dfnew"
   ]
  },
  {
   "cell_type": "code",
   "execution_count": 120,
   "metadata": {},
   "outputs": [
    {
     "data": {
      "text/plain": [
       "LoanOriginationQuarter  LoanStatus   \n",
       "2005Q4                  Achieving           22\n",
       "2006Q1                  Achieving          229\n",
       "                        Non-Achieving       86\n",
       "2006Q2                  Achieving          810\n",
       "                        Non-Achieving      444\n",
       "2006Q3                  Achieving         1165\n",
       "                        Non-Achieving      769\n",
       "2006Q4                  Achieving         1373\n",
       "                        Non-Achieving     1030\n",
       "2007Q1                  Achieving         1788\n",
       "                        Non-Achieving     1291\n",
       "2007Q2                  Achieving         1853\n",
       "                        Non-Achieving     1265\n",
       "2007Q3                  Achieving         1629\n",
       "                        Non-Achieving     1042\n",
       "2007Q4                  Achieving         1666\n",
       "                        Non-Achieving      926\n",
       "2008Q1                  Achieving         2038\n",
       "                        Non-Achieving     1036\n",
       "2008Q2                  Achieving         2867\n",
       "                        Non-Achieving     1477\n",
       "2008Q3                  Achieving         2455\n",
       "                        Non-Achieving     1147\n",
       "2008Q4                  Achieving          383\n",
       "                        Non-Achieving      149\n",
       "2009Q2                  Achieving           10\n",
       "                        Non-Achieving        3\n",
       "2009Q3                  Achieving          502\n",
       "                        Non-Achieving       83\n",
       "2009Q4                  Achieving         1224\n",
       "                                         ...  \n",
       "2010Q3                  Achieving         1073\n",
       "                        Non-Achieving      197\n",
       "2010Q4                  Achieving         1309\n",
       "                        Non-Achieving      291\n",
       "2011Q1                  Achieving         1401\n",
       "                        Non-Achieving      343\n",
       "2011Q2                  Achieving         1874\n",
       "                        Non-Achieving      604\n",
       "2011Q3                  Achieving         2422\n",
       "                        Non-Achieving      671\n",
       "2011Q4                  Achieving         3091\n",
       "                        Non-Achieving      822\n",
       "2012Q1                  Achieving         3535\n",
       "                        Non-Achieving      900\n",
       "2012Q2                  Achieving         4076\n",
       "                        Non-Achieving      985\n",
       "2012Q3                  Achieving         4647\n",
       "                        Non-Achieving      985\n",
       "2012Q4                  Achieving         3801\n",
       "                        Non-Achieving      624\n",
       "2013Q1                  Achieving         3314\n",
       "                        Non-Achieving      302\n",
       "2013Q2                  Achieving         6695\n",
       "                        Non-Achieving      404\n",
       "2013Q3                  Achieving         8895\n",
       "                        Non-Achieving      285\n",
       "2013Q4                  Achieving        14230\n",
       "                        Non-Achieving      220\n",
       "2014Q1                  Achieving        12153\n",
       "                        Non-Achieving       19\n",
       "Name: count, Length: 65, dtype: int64"
      ]
     },
     "execution_count": 120,
     "metadata": {},
     "output_type": "execute_result"
    }
   ],
   "source": [
    "sub_dfnew = dfnew.groupby(['LoanOriginationQuarter', 'LoanStatus']).sum()['count']\n",
    "sub_dfnew"
   ]
  },
  {
   "cell_type": "code",
   "execution_count": 121,
   "metadata": {},
   "outputs": [
    {
     "data": {
      "text/plain": [
       "LoanOriginationQuarter  LoanStatus   \n",
       "2005Q4                  Achieving        1.000000\n",
       "2006Q1                  Achieving        0.726984\n",
       "                        Non-Achieving    0.273016\n",
       "2006Q2                  Achieving        0.645933\n",
       "                        Non-Achieving    0.354067\n",
       "2006Q3                  Achieving        0.602378\n",
       "                        Non-Achieving    0.397622\n",
       "2006Q4                  Achieving        0.571369\n",
       "                        Non-Achieving    0.428631\n",
       "2007Q1                  Achieving        0.580708\n",
       "                        Non-Achieving    0.419292\n",
       "2007Q2                  Achieving        0.594291\n",
       "                        Non-Achieving    0.405709\n",
       "2007Q3                  Achieving        0.609884\n",
       "                        Non-Achieving    0.390116\n",
       "2007Q4                  Achieving        0.642747\n",
       "                        Non-Achieving    0.357253\n",
       "2008Q1                  Achieving        0.662980\n",
       "                        Non-Achieving    0.337020\n",
       "2008Q2                  Achieving        0.659991\n",
       "                        Non-Achieving    0.340009\n",
       "2008Q3                  Achieving        0.681566\n",
       "                        Non-Achieving    0.318434\n",
       "2008Q4                  Achieving        0.719925\n",
       "                        Non-Achieving    0.280075\n",
       "2009Q2                  Achieving        0.769231\n",
       "                        Non-Achieving    0.230769\n",
       "2009Q3                  Achieving        0.858120\n",
       "                        Non-Achieving    0.141880\n",
       "2009Q4                  Achieving        0.844720\n",
       "                                           ...   \n",
       "2010Q3                  Achieving        0.844882\n",
       "                        Non-Achieving    0.155118\n",
       "2010Q4                  Achieving        0.818125\n",
       "                        Non-Achieving    0.181875\n",
       "2011Q1                  Achieving        0.803326\n",
       "                        Non-Achieving    0.196674\n",
       "2011Q2                  Achieving        0.756255\n",
       "                        Non-Achieving    0.243745\n",
       "2011Q3                  Achieving        0.783059\n",
       "                        Non-Achieving    0.216941\n",
       "2011Q4                  Achieving        0.789931\n",
       "                        Non-Achieving    0.210069\n",
       "2012Q1                  Achieving        0.797069\n",
       "                        Non-Achieving    0.202931\n",
       "2012Q2                  Achieving        0.805374\n",
       "                        Non-Achieving    0.194626\n",
       "2012Q3                  Achieving        0.825107\n",
       "                        Non-Achieving    0.174893\n",
       "2012Q4                  Achieving        0.858983\n",
       "                        Non-Achieving    0.141017\n",
       "2013Q1                  Achieving        0.916482\n",
       "                        Non-Achieving    0.083518\n",
       "2013Q2                  Achieving        0.943091\n",
       "                        Non-Achieving    0.056909\n",
       "2013Q3                  Achieving        0.968954\n",
       "                        Non-Achieving    0.031046\n",
       "2013Q4                  Achieving        0.984775\n",
       "                        Non-Achieving    0.015225\n",
       "2014Q1                  Achieving        0.998439\n",
       "                        Non-Achieving    0.001561\n",
       "Name: count, Length: 65, dtype: float64"
      ]
     },
     "execution_count": 121,
     "metadata": {},
     "output_type": "execute_result"
    }
   ],
   "source": [
    "sub_dfnew2 = sub_dfnew / sub_dfnew.groupby(level = 0).sum()\n",
    "sub_dfnew2"
   ]
  },
  {
   "cell_type": "code",
   "execution_count": 122,
   "metadata": {},
   "outputs": [
    {
     "data": {
      "text/html": [
       "<div>\n",
       "<style scoped>\n",
       "    .dataframe tbody tr th:only-of-type {\n",
       "        vertical-align: middle;\n",
       "    }\n",
       "\n",
       "    .dataframe tbody tr th {\n",
       "        vertical-align: top;\n",
       "    }\n",
       "\n",
       "    .dataframe thead th {\n",
       "        text-align: right;\n",
       "    }\n",
       "</style>\n",
       "<table border=\"1\" class=\"dataframe\">\n",
       "  <thead>\n",
       "    <tr style=\"text-align: right;\">\n",
       "      <th>LoanStatus</th>\n",
       "      <th>Achieving</th>\n",
       "      <th>Non-Achieving</th>\n",
       "    </tr>\n",
       "    <tr>\n",
       "      <th>LoanOriginationQuarter</th>\n",
       "      <th></th>\n",
       "      <th></th>\n",
       "    </tr>\n",
       "  </thead>\n",
       "  <tbody>\n",
       "    <tr>\n",
       "      <th>2005Q4</th>\n",
       "      <td>1.000000</td>\n",
       "      <td>NaN</td>\n",
       "    </tr>\n",
       "    <tr>\n",
       "      <th>2006Q1</th>\n",
       "      <td>0.726984</td>\n",
       "      <td>0.273016</td>\n",
       "    </tr>\n",
       "    <tr>\n",
       "      <th>2006Q2</th>\n",
       "      <td>0.645933</td>\n",
       "      <td>0.354067</td>\n",
       "    </tr>\n",
       "    <tr>\n",
       "      <th>2006Q3</th>\n",
       "      <td>0.602378</td>\n",
       "      <td>0.397622</td>\n",
       "    </tr>\n",
       "    <tr>\n",
       "      <th>2006Q4</th>\n",
       "      <td>0.571369</td>\n",
       "      <td>0.428631</td>\n",
       "    </tr>\n",
       "    <tr>\n",
       "      <th>2007Q1</th>\n",
       "      <td>0.580708</td>\n",
       "      <td>0.419292</td>\n",
       "    </tr>\n",
       "    <tr>\n",
       "      <th>2007Q2</th>\n",
       "      <td>0.594291</td>\n",
       "      <td>0.405709</td>\n",
       "    </tr>\n",
       "    <tr>\n",
       "      <th>2007Q3</th>\n",
       "      <td>0.609884</td>\n",
       "      <td>0.390116</td>\n",
       "    </tr>\n",
       "    <tr>\n",
       "      <th>2007Q4</th>\n",
       "      <td>0.642747</td>\n",
       "      <td>0.357253</td>\n",
       "    </tr>\n",
       "    <tr>\n",
       "      <th>2008Q1</th>\n",
       "      <td>0.662980</td>\n",
       "      <td>0.337020</td>\n",
       "    </tr>\n",
       "    <tr>\n",
       "      <th>2008Q2</th>\n",
       "      <td>0.659991</td>\n",
       "      <td>0.340009</td>\n",
       "    </tr>\n",
       "    <tr>\n",
       "      <th>2008Q3</th>\n",
       "      <td>0.681566</td>\n",
       "      <td>0.318434</td>\n",
       "    </tr>\n",
       "    <tr>\n",
       "      <th>2008Q4</th>\n",
       "      <td>0.719925</td>\n",
       "      <td>0.280075</td>\n",
       "    </tr>\n",
       "    <tr>\n",
       "      <th>2009Q2</th>\n",
       "      <td>0.769231</td>\n",
       "      <td>0.230769</td>\n",
       "    </tr>\n",
       "    <tr>\n",
       "      <th>2009Q3</th>\n",
       "      <td>0.858120</td>\n",
       "      <td>0.141880</td>\n",
       "    </tr>\n",
       "    <tr>\n",
       "      <th>2009Q4</th>\n",
       "      <td>0.844720</td>\n",
       "      <td>0.155280</td>\n",
       "    </tr>\n",
       "    <tr>\n",
       "      <th>2010Q1</th>\n",
       "      <td>0.845535</td>\n",
       "      <td>0.154465</td>\n",
       "    </tr>\n",
       "    <tr>\n",
       "      <th>2010Q2</th>\n",
       "      <td>0.827810</td>\n",
       "      <td>0.172190</td>\n",
       "    </tr>\n",
       "    <tr>\n",
       "      <th>2010Q3</th>\n",
       "      <td>0.844882</td>\n",
       "      <td>0.155118</td>\n",
       "    </tr>\n",
       "    <tr>\n",
       "      <th>2010Q4</th>\n",
       "      <td>0.818125</td>\n",
       "      <td>0.181875</td>\n",
       "    </tr>\n",
       "    <tr>\n",
       "      <th>2011Q1</th>\n",
       "      <td>0.803326</td>\n",
       "      <td>0.196674</td>\n",
       "    </tr>\n",
       "    <tr>\n",
       "      <th>2011Q2</th>\n",
       "      <td>0.756255</td>\n",
       "      <td>0.243745</td>\n",
       "    </tr>\n",
       "    <tr>\n",
       "      <th>2011Q3</th>\n",
       "      <td>0.783059</td>\n",
       "      <td>0.216941</td>\n",
       "    </tr>\n",
       "    <tr>\n",
       "      <th>2011Q4</th>\n",
       "      <td>0.789931</td>\n",
       "      <td>0.210069</td>\n",
       "    </tr>\n",
       "    <tr>\n",
       "      <th>2012Q1</th>\n",
       "      <td>0.797069</td>\n",
       "      <td>0.202931</td>\n",
       "    </tr>\n",
       "    <tr>\n",
       "      <th>2012Q2</th>\n",
       "      <td>0.805374</td>\n",
       "      <td>0.194626</td>\n",
       "    </tr>\n",
       "    <tr>\n",
       "      <th>2012Q3</th>\n",
       "      <td>0.825107</td>\n",
       "      <td>0.174893</td>\n",
       "    </tr>\n",
       "    <tr>\n",
       "      <th>2012Q4</th>\n",
       "      <td>0.858983</td>\n",
       "      <td>0.141017</td>\n",
       "    </tr>\n",
       "    <tr>\n",
       "      <th>2013Q1</th>\n",
       "      <td>0.916482</td>\n",
       "      <td>0.083518</td>\n",
       "    </tr>\n",
       "    <tr>\n",
       "      <th>2013Q2</th>\n",
       "      <td>0.943091</td>\n",
       "      <td>0.056909</td>\n",
       "    </tr>\n",
       "    <tr>\n",
       "      <th>2013Q3</th>\n",
       "      <td>0.968954</td>\n",
       "      <td>0.031046</td>\n",
       "    </tr>\n",
       "    <tr>\n",
       "      <th>2013Q4</th>\n",
       "      <td>0.984775</td>\n",
       "      <td>0.015225</td>\n",
       "    </tr>\n",
       "    <tr>\n",
       "      <th>2014Q1</th>\n",
       "      <td>0.998439</td>\n",
       "      <td>0.001561</td>\n",
       "    </tr>\n",
       "  </tbody>\n",
       "</table>\n",
       "</div>"
      ],
      "text/plain": [
       "LoanStatus              Achieving  Non-Achieving\n",
       "LoanOriginationQuarter                          \n",
       "2005Q4                   1.000000            NaN\n",
       "2006Q1                   0.726984       0.273016\n",
       "2006Q2                   0.645933       0.354067\n",
       "2006Q3                   0.602378       0.397622\n",
       "2006Q4                   0.571369       0.428631\n",
       "2007Q1                   0.580708       0.419292\n",
       "2007Q2                   0.594291       0.405709\n",
       "2007Q3                   0.609884       0.390116\n",
       "2007Q4                   0.642747       0.357253\n",
       "2008Q1                   0.662980       0.337020\n",
       "2008Q2                   0.659991       0.340009\n",
       "2008Q3                   0.681566       0.318434\n",
       "2008Q4                   0.719925       0.280075\n",
       "2009Q2                   0.769231       0.230769\n",
       "2009Q3                   0.858120       0.141880\n",
       "2009Q4                   0.844720       0.155280\n",
       "2010Q1                   0.845535       0.154465\n",
       "2010Q2                   0.827810       0.172190\n",
       "2010Q3                   0.844882       0.155118\n",
       "2010Q4                   0.818125       0.181875\n",
       "2011Q1                   0.803326       0.196674\n",
       "2011Q2                   0.756255       0.243745\n",
       "2011Q3                   0.783059       0.216941\n",
       "2011Q4                   0.789931       0.210069\n",
       "2012Q1                   0.797069       0.202931\n",
       "2012Q2                   0.805374       0.194626\n",
       "2012Q3                   0.825107       0.174893\n",
       "2012Q4                   0.858983       0.141017\n",
       "2013Q1                   0.916482       0.083518\n",
       "2013Q2                   0.943091       0.056909\n",
       "2013Q3                   0.968954       0.031046\n",
       "2013Q4                   0.984775       0.015225\n",
       "2014Q1                   0.998439       0.001561"
      ]
     },
     "execution_count": 122,
     "metadata": {},
     "output_type": "execute_result"
    }
   ],
   "source": [
    "dfnew2 = sub_dfnew2.unstack()\n",
    "dfnew2"
   ]
  },
  {
   "cell_type": "markdown",
   "metadata": {},
   "source": [
    "This is a graph of the proportiong of Achieving loans and Non-Achiving loans over time"
   ]
  },
  {
   "cell_type": "code",
   "execution_count": 123,
   "metadata": {},
   "outputs": [
    {
     "data": {
      "image/png": "[encoded data removed]",
      "text/plain": [
       "<Figure size 432x288 with 1 Axes>"
      ]
     },
     "metadata": {
      "needs_background": "light"
     },
     "output_type": "display_data"
    }
   ],
   "source": [
    "#plot percentage of non-achieving loans by quarter\n",
    "dfnew2.plot(kind = 'bar', stacked = True);\n",
    "plt.gca().legend(('Achieving', 'Non-Achieving'))\n",
    "plt.ylabel('proportion')\n",
    "plt.show()"
   ]
  },
  {
   "cell_type": "markdown",
   "metadata": {},
   "source": [
    "The data shows that there was an increase in \"Non-Achieving\" loans from 2005 to 2007 before generally the number of \"Non-Achieving\" loans decreased.  After 2009 the proportion of Non-Achieving loans does not rise above any proportion prior to 2009.  This confirms the stricter lending policies after 2009.  The borrowers after 2009 are considered less-risky and the data confirms it."
   ]
  },
  {
   "cell_type": "code",
   "execution_count": 124,
   "metadata": {},
   "outputs": [
    {
     "name": "stdout",
     "output_type": "stream",
     "text": [
      "<class 'pandas.core.frame.DataFrame'>\n",
      "PeriodIndex: 33 entries, 2005Q4 to 2014Q1\n",
      "Freq: Q-DEC\n",
      "Data columns (total 2 columns):\n",
      "Achieving        33 non-null float64\n",
      "Non-Achieving    32 non-null float64\n",
      "dtypes: float64(2)\n",
      "memory usage: 792.0 bytes\n"
     ]
    }
   ],
   "source": [
    "dfnew2.info()"
   ]
  },
  {
   "cell_type": "markdown",
   "metadata": {},
   "source": [
    "Now we will look at Achieving and Non-Achieving by Income Range"
   ]
  },
  {
   "cell_type": "code",
   "execution_count": 127,
   "metadata": {},
   "outputs": [
    {
     "data": {
      "text/html": [
       "<div>\n",
       "<style scoped>\n",
       "    .dataframe tbody tr th:only-of-type {\n",
       "        vertical-align: middle;\n",
       "    }\n",
       "\n",
       "    .dataframe tbody tr th {\n",
       "        vertical-align: top;\n",
       "    }\n",
       "\n",
       "    .dataframe thead th {\n",
       "        text-align: right;\n",
       "    }\n",
       "</style>\n",
       "<table border=\"1\" class=\"dataframe\">\n",
       "  <thead>\n",
       "    <tr style=\"text-align: right;\">\n",
       "      <th></th>\n",
       "      <th>IncomeRange</th>\n",
       "      <th>LoanStatus</th>\n",
       "      <th>count</th>\n",
       "    </tr>\n",
       "  </thead>\n",
       "  <tbody>\n",
       "    <tr>\n",
       "      <th>0</th>\n",
       "      <td>Not displayed</td>\n",
       "      <td>Achieving</td>\n",
       "      <td>4610</td>\n",
       "    </tr>\n",
       "  </tbody>\n",
       "</table>\n",
       "</div>"
      ],
      "text/plain": [
       "     IncomeRange LoanStatus  count\n",
       "0  Not displayed  Achieving   4610"
      ]
     },
     "execution_count": 127,
     "metadata": {},
     "output_type": "execute_result"
    }
   ],
   "source": [
    "dfincome = (pd.DataFrame({'count' : df_copy.groupby(['IncomeRange', 'LoanStatus']).size()}).reset_index())\n",
    "dfincome.head(1)"
   ]
  },
  {
   "cell_type": "code",
   "execution_count": 128,
   "metadata": {},
   "outputs": [
    {
     "data": {
      "text/plain": [
       "IncomeRange    LoanStatus\n",
       "Not displayed  Achieving     4610\n",
       "Name: percent, dtype: int64"
      ]
     },
     "execution_count": 128,
     "metadata": {},
     "output_type": "execute_result"
    }
   ],
   "source": [
    "sub_dfincome = (dfincome.groupby(['IncomeRange', 'LoanStatus'])['count'].sum().rename(\"percent\"))\n",
    "sub_dfincome.head(1)"
   ]
  },
  {
   "cell_type": "code",
   "execution_count": 129,
   "metadata": {},
   "outputs": [
    {
     "data": {
      "text/plain": [
       "IncomeRange    LoanStatus\n",
       "Not displayed  Achieving     0.59553\n",
       "Name: percent, dtype: float64"
      ]
     },
     "execution_count": 129,
     "metadata": {},
     "output_type": "execute_result"
    }
   ],
   "source": [
    "sub_dfincome2 = sub_dfincome / (sub_dfincome.groupby(level = 0).sum())\n",
    "sub_dfincome2.head(1)"
   ]
  },
  {
   "cell_type": "code",
   "execution_count": 130,
   "metadata": {},
   "outputs": [
    {
     "data": {
      "text/html": [
       "<div>\n",
       "<style scoped>\n",
       "    .dataframe tbody tr th:only-of-type {\n",
       "        vertical-align: middle;\n",
       "    }\n",
       "\n",
       "    .dataframe tbody tr th {\n",
       "        vertical-align: top;\n",
       "    }\n",
       "\n",
       "    .dataframe thead th {\n",
       "        text-align: right;\n",
       "    }\n",
       "</style>\n",
       "<table border=\"1\" class=\"dataframe\">\n",
       "  <thead>\n",
       "    <tr style=\"text-align: right;\">\n",
       "      <th></th>\n",
       "      <th></th>\n",
       "      <th>percent</th>\n",
       "    </tr>\n",
       "    <tr>\n",
       "      <th>IncomeRange</th>\n",
       "      <th>LoanStatus</th>\n",
       "      <th></th>\n",
       "    </tr>\n",
       "  </thead>\n",
       "  <tbody>\n",
       "    <tr>\n",
       "      <th>Not displayed</th>\n",
       "      <th>Achieving</th>\n",
       "      <td>0.59553</td>\n",
       "    </tr>\n",
       "  </tbody>\n",
       "</table>\n",
       "</div>"
      ],
      "text/plain": [
       "                          percent\n",
       "IncomeRange   LoanStatus         \n",
       "Not displayed Achieving   0.59553"
      ]
     },
     "execution_count": 130,
     "metadata": {},
     "output_type": "execute_result"
    }
   ],
   "source": [
    "sub_dfincome3 = (pd.Series.to_frame(sub_dfincome2))\n",
    "sub_dfincome3.head(1)"
   ]
  },
  {
   "cell_type": "code",
   "execution_count": 131,
   "metadata": {},
   "outputs": [
    {
     "data": {
      "text/html": [
       "<div>\n",
       "<style scoped>\n",
       "    .dataframe tbody tr th:only-of-type {\n",
       "        vertical-align: middle;\n",
       "    }\n",
       "\n",
       "    .dataframe tbody tr th {\n",
       "        vertical-align: top;\n",
       "    }\n",
       "\n",
       "    .dataframe thead tr th {\n",
       "        text-align: left;\n",
       "    }\n",
       "\n",
       "    .dataframe thead tr:last-of-type th {\n",
       "        text-align: right;\n",
       "    }\n",
       "</style>\n",
       "<table border=\"1\" class=\"dataframe\">\n",
       "  <thead>\n",
       "    <tr>\n",
       "      <th></th>\n",
       "      <th colspan=\"2\" halign=\"left\">percent</th>\n",
       "    </tr>\n",
       "    <tr>\n",
       "      <th>LoanStatus</th>\n",
       "      <th>Achieving</th>\n",
       "      <th>Non-Achieving</th>\n",
       "    </tr>\n",
       "    <tr>\n",
       "      <th>IncomeRange</th>\n",
       "      <th></th>\n",
       "      <th></th>\n",
       "    </tr>\n",
       "  </thead>\n",
       "  <tbody>\n",
       "    <tr>\n",
       "      <th>Not displayed</th>\n",
       "      <td>0.59553</td>\n",
       "      <td>0.40447</td>\n",
       "    </tr>\n",
       "  </tbody>\n",
       "</table>\n",
       "</div>"
      ],
      "text/plain": [
       "                percent              \n",
       "LoanStatus    Achieving Non-Achieving\n",
       "IncomeRange                          \n",
       "Not displayed   0.59553       0.40447"
      ]
     },
     "execution_count": 131,
     "metadata": {},
     "output_type": "execute_result"
    }
   ],
   "source": [
    "\n",
    "sub_dfincome4 = (sub_dfincome3.unstack())\n",
    "sub_dfincome4.head(1)"
   ]
  },
  {
   "cell_type": "code",
   "execution_count": 132,
   "metadata": {},
   "outputs": [
    {
     "name": "stdout",
     "output_type": "stream",
     "text": [
      "<class 'pandas.core.frame.DataFrame'>\n",
      "CategoricalIndex: 7 entries, Not displayed to $100,000+\n",
      "Data columns (total 2 columns):\n",
      "(percent, Achieving)        7 non-null float64\n",
      "(percent, Non-Achieving)    7 non-null float64\n",
      "dtypes: float64(2)\n",
      "memory usage: 503.0 bytes\n"
     ]
    }
   ],
   "source": [
    "sub_dfincome4.info()"
   ]
  },
  {
   "cell_type": "code",
   "execution_count": 133,
   "metadata": {},
   "outputs": [
    {
     "data": {
      "image/png": "[encoded data removed]",
      "text/plain": [
       "<Figure size 432x288 with 1 Axes>"
      ]
     },
     "metadata": {
      "needs_background": "light"
     },
     "output_type": "display_data"
    }
   ],
   "source": [
    "sub_dfincome4.plot(kind = 'bar', stacked = True);\n",
    "plt.gca().legend(('Achieving', 'Non-Achieving'))\n",
    "plt.ylabel('proportion')\n",
    "plt.legend(loc = 8)\n",
    "plt.show()"
   ]
  },
  {
   "cell_type": "markdown",
   "metadata": {},
   "source": [
    "The data shows the higher the income the higher the proportion of Achieving loans."
   ]
  },
  {
   "cell_type": "markdown",
   "metadata": {},
   "source": [
    "Now we will look at what best predicts Achieving from Non-Achieving loans."
   ]
  },
  {
   "cell_type": "code",
   "execution_count": 135,
   "metadata": {},
   "outputs": [
    {
     "data": {
      "image/png": "[encoded data removed]",
      "text/plain": [
       "<Figure size 720x360 with 1 Axes>"
      ]
     },
     "metadata": {
      "needs_background": "light"
     },
     "output_type": "display_data"
    }
   ],
   "source": [
    "plt.figure(figsize = [10,5])\n",
    "sb.countplot(data = df_copy, x = 'ProsperRating (Alpha)', hue = 'LoanStatus')\n",
    "plt.show();"
   ]
  },
  {
   "cell_type": "markdown",
   "metadata": {},
   "source": [
    "This plot shows the absolute number of \"Achieving\" and \"Non-Achieving\" loans by Prosper Rating. "
   ]
  },
  {
   "cell_type": "code",
   "execution_count": 134,
   "metadata": {},
   "outputs": [
    {
     "data": {
      "text/html": [
       "<div>\n",
       "<style scoped>\n",
       "    .dataframe tbody tr th:only-of-type {\n",
       "        vertical-align: middle;\n",
       "    }\n",
       "\n",
       "    .dataframe tbody tr th {\n",
       "        vertical-align: top;\n",
       "    }\n",
       "\n",
       "    .dataframe thead th {\n",
       "        text-align: right;\n",
       "    }\n",
       "</style>\n",
       "<table border=\"1\" class=\"dataframe\">\n",
       "  <thead>\n",
       "    <tr style=\"text-align: right;\">\n",
       "      <th></th>\n",
       "      <th>ProsperRating (Alpha)</th>\n",
       "      <th>LoanStatus</th>\n",
       "      <th>count</th>\n",
       "    </tr>\n",
       "  </thead>\n",
       "  <tbody>\n",
       "    <tr>\n",
       "      <th>0</th>\n",
       "      <td>AA</td>\n",
       "      <td>Achieving</td>\n",
       "      <td>5264</td>\n",
       "    </tr>\n",
       "  </tbody>\n",
       "</table>\n",
       "</div>"
      ],
      "text/plain": [
       "  ProsperRating (Alpha) LoanStatus  count\n",
       "0                    AA  Achieving   5264"
      ]
     },
     "execution_count": 134,
     "metadata": {},
     "output_type": "execute_result"
    }
   ],
   "source": [
    "dfnew3 = (pd.DataFrame({'count' : df_copy.groupby(['ProsperRating (Alpha)', 'LoanStatus']).size()}).reset_index())\n",
    "dfnew3.head(1)"
   ]
  },
  {
   "cell_type": "code",
   "execution_count": 136,
   "metadata": {},
   "outputs": [
    {
     "data": {
      "text/plain": [
       "ProsperRating (Alpha)  LoanStatus\n",
       "AA                     Achieving     5264\n",
       "Name: percent, dtype: int64"
      ]
     },
     "execution_count": 136,
     "metadata": {},
     "output_type": "execute_result"
    }
   ],
   "source": [
    "count_Prosper = (dfnew3.groupby(['ProsperRating (Alpha)', 'LoanStatus'])['count'].sum().rename(\"percent\"))\n",
    "count_Prosper.head(1)"
   ]
  },
  {
   "cell_type": "code",
   "execution_count": 137,
   "metadata": {},
   "outputs": [
    {
     "data": {
      "text/plain": [
       "ProsperRating (Alpha)  LoanStatus\n",
       "AA                     Achieving     0.979896\n",
       "Name: percent, dtype: float64"
      ]
     },
     "execution_count": 137,
     "metadata": {},
     "output_type": "execute_result"
    }
   ],
   "source": [
    "count_Prosper = count_Prosper / (count_Prosper.groupby(level = 0).sum())\n",
    "count_Prosper.head(1)"
   ]
  },
  {
   "cell_type": "code",
   "execution_count": 138,
   "metadata": {},
   "outputs": [
    {
     "data": {
      "text/html": [
       "<div>\n",
       "<style scoped>\n",
       "    .dataframe tbody tr th:only-of-type {\n",
       "        vertical-align: middle;\n",
       "    }\n",
       "\n",
       "    .dataframe tbody tr th {\n",
       "        vertical-align: top;\n",
       "    }\n",
       "\n",
       "    .dataframe thead th {\n",
       "        text-align: right;\n",
       "    }\n",
       "</style>\n",
       "<table border=\"1\" class=\"dataframe\">\n",
       "  <thead>\n",
       "    <tr style=\"text-align: right;\">\n",
       "      <th></th>\n",
       "      <th></th>\n",
       "      <th>percent</th>\n",
       "    </tr>\n",
       "    <tr>\n",
       "      <th>ProsperRating (Alpha)</th>\n",
       "      <th>LoanStatus</th>\n",
       "      <th></th>\n",
       "    </tr>\n",
       "  </thead>\n",
       "  <tbody>\n",
       "    <tr>\n",
       "      <th>AA</th>\n",
       "      <th>Achieving</th>\n",
       "      <td>0.979896</td>\n",
       "    </tr>\n",
       "  </tbody>\n",
       "</table>\n",
       "</div>"
      ],
      "text/plain": [
       "                                   percent\n",
       "ProsperRating (Alpha) LoanStatus          \n",
       "AA                    Achieving   0.979896"
      ]
     },
     "execution_count": 138,
     "metadata": {},
     "output_type": "execute_result"
    }
   ],
   "source": [
    "count_Prosper =(pd.Series.to_frame(count_Prosper))\n",
    "count_Prosper.head(1)"
   ]
  },
  {
   "cell_type": "code",
   "execution_count": 139,
   "metadata": {},
   "outputs": [
    {
     "data": {
      "text/html": [
       "<div>\n",
       "<style scoped>\n",
       "    .dataframe tbody tr th:only-of-type {\n",
       "        vertical-align: middle;\n",
       "    }\n",
       "\n",
       "    .dataframe tbody tr th {\n",
       "        vertical-align: top;\n",
       "    }\n",
       "\n",
       "    .dataframe thead tr th {\n",
       "        text-align: left;\n",
       "    }\n",
       "\n",
       "    .dataframe thead tr:last-of-type th {\n",
       "        text-align: right;\n",
       "    }\n",
       "</style>\n",
       "<table border=\"1\" class=\"dataframe\">\n",
       "  <thead>\n",
       "    <tr>\n",
       "      <th></th>\n",
       "      <th colspan=\"2\" halign=\"left\">percent</th>\n",
       "    </tr>\n",
       "    <tr>\n",
       "      <th>LoanStatus</th>\n",
       "      <th>Achieving</th>\n",
       "      <th>Non-Achieving</th>\n",
       "    </tr>\n",
       "    <tr>\n",
       "      <th>ProsperRating (Alpha)</th>\n",
       "      <th></th>\n",
       "      <th></th>\n",
       "    </tr>\n",
       "  </thead>\n",
       "  <tbody>\n",
       "    <tr>\n",
       "      <th>AA</th>\n",
       "      <td>0.979896</td>\n",
       "      <td>0.020104</td>\n",
       "    </tr>\n",
       "  </tbody>\n",
       "</table>\n",
       "</div>"
      ],
      "text/plain": [
       "                        percent              \n",
       "LoanStatus            Achieving Non-Achieving\n",
       "ProsperRating (Alpha)                        \n",
       "AA                     0.979896      0.020104"
      ]
     },
     "execution_count": 139,
     "metadata": {},
     "output_type": "execute_result"
    }
   ],
   "source": [
    "sub_cp = (count_Prosper.unstack())\n",
    "sub_cp.head(1)"
   ]
  },
  {
   "cell_type": "code",
   "execution_count": 140,
   "metadata": {},
   "outputs": [
    {
     "name": "stdout",
     "output_type": "stream",
     "text": [
      "<class 'pandas.core.frame.DataFrame'>\n",
      "CategoricalIndex: 7 entries, AA to HR\n",
      "Data columns (total 2 columns):\n",
      "(percent, Achieving)        7 non-null float64\n",
      "(percent, Non-Achieving)    7 non-null float64\n",
      "dtypes: float64(2)\n",
      "memory usage: 503.0 bytes\n"
     ]
    }
   ],
   "source": [
    "sub_cp.info()"
   ]
  },
  {
   "cell_type": "code",
   "execution_count": 141,
   "metadata": {},
   "outputs": [
    {
     "data": {
      "image/png": "[encoded data removed]",
      "text/plain": [
       "<Figure size 432x288 with 1 Axes>"
      ]
     },
     "metadata": {
      "needs_background": "light"
     },
     "output_type": "display_data"
    }
   ],
   "source": [
    "sub_cp.plot(kind = 'bar', stacked = True);\n",
    "plt.gca().legend(('Achieving', 'Non-Achieving'))\n",
    "plt.ylabel('proportion')\n",
    "plt.xticks(rotation = 360)\n",
    "plt.legend(loc = 8, framealpha = 1)\n",
    "plt.show()"
   ]
  },
  {
   "cell_type": "markdown",
   "metadata": {},
   "source": [
    "The data shows the Prosper Rating has predicted the risk factor appropriately.  The higher the Prosper Rating the lower the proportion of \"Non-Achieving\" loans."
   ]
  },
  {
   "cell_type": "markdown",
   "metadata": {},
   "source": [
    "Predicting Loan Status"
   ]
  },
  {
   "cell_type": "markdown",
   "metadata": {},
   "source": [
    "Prosper Score is the custom risk variable assigned to each loan. We will take a look to see if it predicts appropriately."
   ]
  },
  {
   "cell_type": "code",
   "execution_count": 143,
   "metadata": {},
   "outputs": [
    {
     "data": {
      "text/plain": [
       "<matplotlib.axes._subplots.AxesSubplot at 0x1fa8014cc88>"
      ]
     },
     "execution_count": 143,
     "metadata": {},
     "output_type": "execute_result"
    },
    {
     "data": {
      "image/png": "[encoded data removed]",
      "text/plain": [
       "<Figure size 720x360 with 1 Axes>"
      ]
     },
     "metadata": {
      "needs_background": "light"
     },
     "output_type": "display_data"
    }
   ],
   "source": [
    "# first with Prosper Score\n",
    "plt.figure(figsize = [10,5])\n",
    "base_color = sb.color_palette()[0]\n",
    "sb.boxplot(data = df_copy, x = 'LoanStatus', y = 'ProsperScore', color = base_color)"
   ]
  },
  {
   "cell_type": "markdown",
   "metadata": {},
   "source": [
    "Achieving loans have a higher average Prosper Score than Non-Achieving.  The factors that go into creating the score seem to be doing the job correctly."
   ]
  },
  {
   "cell_type": "markdown",
   "metadata": {},
   "source": [
    "We will look at credit score to see if it predicts Achieving to Non Achieving"
   ]
  },
  {
   "cell_type": "code",
   "execution_count": 142,
   "metadata": {},
   "outputs": [
    {
     "data": {
      "image/png": "[encoded data removed]",
      "text/plain": [
       "<Figure size 720x360 with 1 Axes>"
      ]
     },
     "metadata": {
      "needs_background": "light"
     },
     "output_type": "display_data"
    }
   ],
   "source": [
    "# first with Credit Score\n",
    "plt.figure(figsize = [10,5])\n",
    "base_color = sb.color_palette()[0]\n",
    "sb.boxplot(data = df_copy, x = 'LoanStatus', y = 'CreditScoreRangeUpper', color = base_color)\n",
    "plt.ylim(400, df_copy['CreditScoreRangeUpper'].max() + 50);"
   ]
  },
  {
   "cell_type": "markdown",
   "metadata": {},
   "source": [
    "The Achieving loans have a higher avereage than the Non-Achieving loans.  The higher the credit score the more likely the loan will achieve."
   ]
  },
  {
   "cell_type": "markdown",
   "metadata": {},
   "source": [
    "Let's look at how these borrower characteristics affect Prosper Rating.  Lets start with Debt-to-Income Ratio."
   ]
  },
  {
   "cell_type": "code",
   "execution_count": 144,
   "metadata": {},
   "outputs": [
    {
     "data": {
      "text/plain": [
       "(0, 1)"
      ]
     },
     "execution_count": 144,
     "metadata": {},
     "output_type": "execute_result"
    },
    {
     "data": {
      "image/png": "[encoded data removed]",
      "text/plain": [
       "<Figure size 720x360 with 1 Axes>"
      ]
     },
     "metadata": {
      "needs_background": "light"
     },
     "output_type": "display_data"
    }
   ],
   "source": [
    "# make the plot\n",
    "plt.figure(figsize = [10,5])\n",
    "base_color = sb.color_palette()[0]\n",
    "sb.boxplot(data = df_copy, x = 'ProsperRating (Alpha)', y = 'DebtToIncomeRatio', color = base_color)\n",
    "plt.ylim(0, 1)"
   ]
  },
  {
   "cell_type": "markdown",
   "metadata": {},
   "source": [
    "The debt-to-Income ratio is slightly lower for non-riskier Prosper Ratings but it seems to generally be the same."
   ]
  },
  {
   "cell_type": "markdown",
   "metadata": {},
   "source": [
    "Lets look at Prosper Rating and credit score."
   ]
  },
  {
   "cell_type": "code",
   "execution_count": 146,
   "metadata": {},
   "outputs": [
    {
     "data": {
      "text/plain": [
       "<matplotlib.axes._subplots.AxesSubplot at 0x1fa8029ba58>"
      ]
     },
     "execution_count": 146,
     "metadata": {},
     "output_type": "execute_result"
    },
    {
     "data": {
      "image/png": "[encoded data removed]",
      "text/plain": [
       "<Figure size 720x360 with 1 Axes>"
      ]
     },
     "metadata": {
      "needs_background": "light"
     },
     "output_type": "display_data"
    }
   ],
   "source": [
    "# make the plot\n",
    "plt.figure(figsize = [10,5])\n",
    "base_color = sb.color_palette()[0]\n",
    "sb.boxplot(data = df_copy, x = 'ProsperRating (Alpha)', y = 'CreditScoreRangeUpper', color = base_color)\n"
   ]
  },
  {
   "cell_type": "markdown",
   "metadata": {},
   "source": [
    "Credit Score seems to correlate strongly wih the Prosper Rating as you can see a substansial decrease in average credit scores at the ratings get worse, more-risky.  The \"HR\" column does seem to have a higher credit score average than \"E\" indicating other factors other than credit score for Prosper Rating."
   ]
  },
  {
   "cell_type": "markdown",
   "metadata": {},
   "source": [
    "### Talk about some of the relationships you observed in this part of the investigation. How did the feature(s) of interest vary with other features in the dataset?\n",
    "\n",
    "The biggest insight was that Prosper was more strict with the risk assessment for their borrrowers after 2009.  Borrower characteristics such as credit score and debt to income ratio all changed after 2009.  \n",
    "\n",
    "\n",
    "\n",
    "### Did you observe any interesting relationships between the other features (not the main feature(s) of interest)?\n",
    "\n",
    "The biggest suprise was that debt-to-income ratio is not a predictor of risk assessment.  There is not a strong correlation with debt to income and whether a risk of Acheiving or Non-Achieving.  \n"
   ]
  },
  {
   "cell_type": "markdown",
   "metadata": {},
   "source": [
    "# Multivariate Plot Section"
   ]
  },
  {
   "cell_type": "markdown",
   "metadata": {},
   "source": [
    "In this section I will explore the relationship of the vrariables and how the predict loan status."
   ]
  },
  {
   "cell_type": "markdown",
   "metadata": {},
   "source": [
    "I will start with loan amount and credit score."
   ]
  },
  {
   "cell_type": "code",
   "execution_count": 145,
   "metadata": {},
   "outputs": [
    {
     "data": {
      "text/plain": [
       "<seaborn.axisgrid.FacetGrid at 0x1fa82b19fd0>"
      ]
     },
     "execution_count": 145,
     "metadata": {},
     "output_type": "execute_result"
    },
    {
     "data": {
      "text/plain": [
       "<Figure size 720x360 with 0 Axes>"
      ]
     },
     "metadata": {},
     "output_type": "display_data"
    },
    {
     "data": {
      "image/png": "[encoded data removed]",
      "text/plain": [
       "<Figure size 468.75x360 with 1 Axes>"
      ]
     },
     "metadata": {
      "needs_background": "light"
     },
     "output_type": "display_data"
    }
   ],
   "source": [
    "plt.figure(figsize = [10, 5])\n",
    "g = sb.FacetGrid(data = df_copy, hue = 'LoanStatus', height = 5)\n",
    "g.map(plt.scatter, 'LoanOriginalAmount', 'CreditScoreRangeUpper', alpha = 0.5)\n",
    "g.add_legend()\n",
    "#plt.xscale('log')\n",
    "#plt.xticks(ticks, ticks);"
   ]
  },
  {
   "cell_type": "markdown",
   "metadata": {},
   "source": [
    "You can see original loan amount is not a great predictor of loan status as there is no clear relationship in the plot.  The lower the credit score there seems to be more non-achieving loans.  This makes sense as a lower credit score means the borrower is is less-risky."
   ]
  },
  {
   "cell_type": "markdown",
   "metadata": {},
   "source": [
    "Next we will look at Income range and borrower rate"
   ]
  },
  {
   "cell_type": "code",
   "execution_count": 148,
   "metadata": {},
   "outputs": [
    {
     "data": {
      "text/plain": [
       "(array([0, 1, 2, 3, 4, 5, 6, 7]), <a list of 8 Text xticklabel objects>)"
      ]
     },
     "execution_count": 148,
     "metadata": {},
     "output_type": "execute_result"
    },
    {
     "data": {
      "image/png": "[encoded data removed]",
      "text/plain": [
       "<Figure size 432x288 with 1 Axes>"
      ]
     },
     "metadata": {
      "needs_background": "light"
     },
     "output_type": "display_data"
    }
   ],
   "source": [
    "ax = sb.boxplot(data = df_copy, x = 'IncomeRange', y = 'CreditScoreRangeUpper',\n",
    "               hue = 'LoanStatus')\n",
    "ax.legend(loc = 8)\n",
    "plt.ylim(0,900)\n",
    "plt.xticks(rotation = 90)"
   ]
  },
  {
   "cell_type": "markdown",
   "metadata": {},
   "source": [
    "There is not much of a difference within credit scores on different income levels.  Although you can see that within the income levels, loans that are achieving have a higher average credit score than those that are non-achieving."
   ]
  },
  {
   "cell_type": "code",
   "execution_count": 147,
   "metadata": {},
   "outputs": [
    {
     "data": {
      "text/plain": [
       "(array([0, 1, 2, 3, 4, 5, 6, 7]), <a list of 8 Text xticklabel objects>)"
      ]
     },
     "execution_count": 147,
     "metadata": {},
     "output_type": "execute_result"
    },
    {
     "data": {
      "image/png": "[encoded data removed]",
      "text/plain": [
       "<Figure size 432x288 with 1 Axes>"
      ]
     },
     "metadata": {
      "needs_background": "light"
     },
     "output_type": "display_data"
    }
   ],
   "source": [
    "ax = sb.boxplot(data = df_copy, x = 'IncomeRange', y = 'LoanOriginalAmount',\n",
    "               hue = 'LoanStatus')\n",
    "ax.legend(loc = 1)\n",
    "plt.xticks(rotation = 90)"
   ]
  },
  {
   "cell_type": "markdown",
   "metadata": {},
   "source": [
    "The data shows borrowers with a higher income tend to take out larger loan amounts.  Within the income levels the achieving loans seem to have a higher loan amount than the non-achieving loans.  I don't know if this tells me anything."
   ]
  },
  {
   "cell_type": "code",
   "execution_count": 149,
   "metadata": {},
   "outputs": [
    {
     "data": {
      "text/plain": [
       "(0, 900)"
      ]
     },
     "execution_count": 149,
     "metadata": {},
     "output_type": "execute_result"
    },
    {
     "data": {
      "image/png": "[encoded data removed]",
      "text/plain": [
       "<Figure size 432x288 with 1 Axes>"
      ]
     },
     "metadata": {
      "needs_background": "light"
     },
     "output_type": "display_data"
    }
   ],
   "source": [
    "ax = sb.boxplot(data = df_copy, x = 'ProsperRating (Alpha)', y = 'CreditScoreRangeUpper',\n",
    "               hue = 'LoanStatus')\n",
    "ax.legend(loc = 8)\n",
    "plt.ylim(0,900)"
   ]
  },
  {
   "cell_type": "markdown",
   "metadata": {},
   "source": [
    "You can see that the higher Prosper Ratings have a higher credit score.  No suprise here.  What is suprising is within some of the Prosper ratings the non-achieving loans have higher credit scores than the achieving loans.  This needs to be further explored to see the proportion of achieving to non-achieving loans."
   ]
  },
  {
   "cell_type": "markdown",
   "metadata": {},
   "source": [
    "Now lets take a look at Prosper Rating, credit score, and Net Principal loss."
   ]
  },
  {
   "cell_type": "code",
   "execution_count": 150,
   "metadata": {},
   "outputs": [],
   "source": [
    "# have to do only for after 2009\n",
    "pre2009 = df_copy.groupby(['ProsperRating (Alpha)', 'CreditScoreRangeUpper']) \\\n",
    "                .apply(lambda x: len(x.query(\"'2009-01-01' >= LoanOriginationDate\"))> 0) \\\n",
    "                .reset_index()"
   ]
  },
  {
   "cell_type": "code",
   "execution_count": 151,
   "metadata": {},
   "outputs": [
    {
     "data": {
      "text/plain": [
       "(0, 900)"
      ]
     },
     "execution_count": 151,
     "metadata": {},
     "output_type": "execute_result"
    },
    {
     "data": {
      "text/plain": [
       "<Figure size 720x360 with 0 Axes>"
      ]
     },
     "metadata": {},
     "output_type": "display_data"
    },
    {
     "data": {
      "image/png": "[encoded data removed]",
      "text/plain": [
       "<Figure size 477.75x360 with 1 Axes>"
      ]
     },
     "metadata": {
      "needs_background": "light"
     },
     "output_type": "display_data"
    }
   ],
   "source": [
    "\n",
    "\n",
    "base_color = sb.color_palette('viridis', 9)\n",
    "plt.figure(figsize = [10, 5])\n",
    "g = sb.FacetGrid(data = df_copy.query('LoanOriginationDate >= \"2009-01-01\"'), hue = 'ProsperRating (Alpha)', height = 5, palette = 'viridis')\n",
    "g.map(plt.scatter, 'LP_NetPrincipalLoss', 'CreditScoreRangeUpper', alpha = 0.5)\n",
    "g.add_legend()\n",
    "plt.ylim(0,900)"
   ]
  },
  {
   "cell_type": "markdown",
   "metadata": {},
   "source": [
    "This data is post 2009 when Prosper changed their loan requirements and renamed their custome risk grade to Prosper Rating.  You can see the chart is mostly green.  It shows green for lower credit score and more principal loss.  There are not as many blue dots.  But the highest principal loss is blue.  "
   ]
  },
  {
   "cell_type": "markdown",
   "metadata": {},
   "source": [
    "Now we will look at pre 2009."
   ]
  },
  {
   "cell_type": "code",
   "execution_count": 152,
   "metadata": {},
   "outputs": [
    {
     "data": {
      "text/plain": [
       "<seaborn.axisgrid.FacetGrid at 0x1fa81c602e8>"
      ]
     },
     "execution_count": 152,
     "metadata": {},
     "output_type": "execute_result"
    },
    {
     "data": {
      "text/plain": [
       "<Figure size 720x360 with 0 Axes>"
      ]
     },
     "metadata": {},
     "output_type": "display_data"
    },
    {
     "data": {
      "image/png": "[encoded data removed]",
      "text/plain": [
       "<Figure size 428.75x360 with 1 Axes>"
      ]
     },
     "metadata": {
      "needs_background": "light"
     },
     "output_type": "display_data"
    }
   ],
   "source": [
    "base_color = sb.color_palette('viridis', 9)\n",
    "plt.figure(figsize = [10, 5])\n",
    "g = sb.FacetGrid(data = df_copy.query('LoanOriginationDate <= \"2009-01-01\"'), hue = 'CreditGrade', height = 5, palette = 'viridis')\n",
    "g.map(plt.scatter, 'LP_NetPrincipalLoss', 'CreditScoreRangeUpper', alpha = 0.5)\n",
    "g.add_legend()\n"
   ]
  },
  {
   "cell_type": "markdown",
   "metadata": {},
   "source": [
    "Principal loss seems to be evenly distributed.  Although the highest loss amount is darker in color.  This means the less-risk credit classes.  Prior to 2009 the company lost money."
   ]
  },
  {
   "cell_type": "code",
   "execution_count": null,
   "metadata": {},
   "outputs": [],
   "source": []
  },
  {
   "cell_type": "code",
   "execution_count": 155,
   "metadata": {},
   "outputs": [
    {
     "data": {
      "text/html": [
       "<div>\n",
       "<style scoped>\n",
       "    .dataframe tbody tr th:only-of-type {\n",
       "        vertical-align: middle;\n",
       "    }\n",
       "\n",
       "    .dataframe tbody tr th {\n",
       "        vertical-align: top;\n",
       "    }\n",
       "\n",
       "    .dataframe thead th {\n",
       "        text-align: right;\n",
       "    }\n",
       "</style>\n",
       "<table border=\"1\" class=\"dataframe\">\n",
       "  <thead>\n",
       "    <tr style=\"text-align: right;\">\n",
       "      <th></th>\n",
       "      <th>LoanOriginationQuarter</th>\n",
       "      <th>LoanStatus</th>\n",
       "      <th>ProsperRating (Alpha)</th>\n",
       "      <th>count</th>\n",
       "    </tr>\n",
       "  </thead>\n",
       "  <tbody>\n",
       "    <tr>\n",
       "      <th>0</th>\n",
       "      <td>2009Q3</td>\n",
       "      <td>Achieving</td>\n",
       "      <td>AA</td>\n",
       "      <td>81</td>\n",
       "    </tr>\n",
       "    <tr>\n",
       "      <th>1</th>\n",
       "      <td>2009Q3</td>\n",
       "      <td>Achieving</td>\n",
       "      <td>A</td>\n",
       "      <td>121</td>\n",
       "    </tr>\n",
       "    <tr>\n",
       "      <th>2</th>\n",
       "      <td>2009Q3</td>\n",
       "      <td>Achieving</td>\n",
       "      <td>B</td>\n",
       "      <td>31</td>\n",
       "    </tr>\n",
       "    <tr>\n",
       "      <th>3</th>\n",
       "      <td>2009Q3</td>\n",
       "      <td>Achieving</td>\n",
       "      <td>C</td>\n",
       "      <td>97</td>\n",
       "    </tr>\n",
       "    <tr>\n",
       "      <th>4</th>\n",
       "      <td>2009Q3</td>\n",
       "      <td>Achieving</td>\n",
       "      <td>D</td>\n",
       "      <td>75</td>\n",
       "    </tr>\n",
       "  </tbody>\n",
       "</table>\n",
       "</div>"
      ],
      "text/plain": [
       "  LoanOriginationQuarter LoanStatus ProsperRating (Alpha)  count\n",
       "0                 2009Q3  Achieving                    AA     81\n",
       "1                 2009Q3  Achieving                     A    121\n",
       "2                 2009Q3  Achieving                     B     31\n",
       "3                 2009Q3  Achieving                     C     97\n",
       "4                 2009Q3  Achieving                     D     75"
      ]
     },
     "execution_count": 155,
     "metadata": {},
     "output_type": "execute_result"
    }
   ],
   "source": [
    "# create dataframe with columns of interest\n",
    "dfrating = (pd.DataFrame({'count' : df_copy.groupby(['LoanOriginationQuarter', 'LoanStatus', 'ProsperRating (Alpha)']).size()}).reset_index())\n",
    "dfrating.head(5)\n"
   ]
  },
  {
   "cell_type": "code",
   "execution_count": 156,
   "metadata": {},
   "outputs": [
    {
     "data": {
      "text/plain": [
       "LoanOriginationQuarter  ProsperRating (Alpha)  LoanStatus   \n",
       "2009Q3                  AA                     Achieving         81\n",
       "                                               Non-Achieving      6\n",
       "                        A                      Achieving        121\n",
       "                                               Non-Achieving     13\n",
       "                        B                      Achieving         31\n",
       "Name: percent, dtype: int64"
      ]
     },
     "execution_count": 156,
     "metadata": {},
     "output_type": "execute_result"
    }
   ],
   "source": [
    "# gets count of each variable for Loan Status column\n",
    "count_rating = (dfrating.groupby(['LoanOriginationQuarter','ProsperRating (Alpha)', 'LoanStatus'])['count'].sum().rename(\"percent\"))\n",
    "count_rating.head()"
   ]
  },
  {
   "cell_type": "code",
   "execution_count": 157,
   "metadata": {},
   "outputs": [
    {
     "data": {
      "text/plain": [
       "LoanOriginationQuarter  ProsperRating (Alpha)  LoanStatus   \n",
       "2009Q3                  AA                     Achieving        0.144902\n",
       "                                               Non-Achieving    0.010733\n",
       "                        A                      Achieving        0.216458\n",
       "                                               Non-Achieving    0.023256\n",
       "                        B                      Achieving        0.055456\n",
       "Name: percent, dtype: float64"
      ]
     },
     "execution_count": 157,
     "metadata": {},
     "output_type": "execute_result"
    }
   ],
   "source": [
    "# gets proportion of each variable in Prosperrating column\n",
    "count_rating = count_rating / (count_rating.groupby(level = 0).sum())\n",
    "count_rating.head()"
   ]
  },
  {
   "cell_type": "code",
   "execution_count": 158,
   "metadata": {},
   "outputs": [
    {
     "data": {
      "text/html": [
       "<div>\n",
       "<style scoped>\n",
       "    .dataframe tbody tr th:only-of-type {\n",
       "        vertical-align: middle;\n",
       "    }\n",
       "\n",
       "    .dataframe tbody tr th {\n",
       "        vertical-align: top;\n",
       "    }\n",
       "\n",
       "    .dataframe thead th {\n",
       "        text-align: right;\n",
       "    }\n",
       "</style>\n",
       "<table border=\"1\" class=\"dataframe\">\n",
       "  <thead>\n",
       "    <tr style=\"text-align: right;\">\n",
       "      <th></th>\n",
       "      <th></th>\n",
       "      <th></th>\n",
       "      <th>percent</th>\n",
       "    </tr>\n",
       "    <tr>\n",
       "      <th>LoanOriginationQuarter</th>\n",
       "      <th>ProsperRating (Alpha)</th>\n",
       "      <th>LoanStatus</th>\n",
       "      <th></th>\n",
       "    </tr>\n",
       "  </thead>\n",
       "  <tbody>\n",
       "    <tr>\n",
       "      <th rowspan=\"5\" valign=\"top\">2009Q3</th>\n",
       "      <th rowspan=\"2\" valign=\"top\">AA</th>\n",
       "      <th>Achieving</th>\n",
       "      <td>0.144902</td>\n",
       "    </tr>\n",
       "    <tr>\n",
       "      <th>Non-Achieving</th>\n",
       "      <td>0.010733</td>\n",
       "    </tr>\n",
       "    <tr>\n",
       "      <th rowspan=\"2\" valign=\"top\">A</th>\n",
       "      <th>Achieving</th>\n",
       "      <td>0.216458</td>\n",
       "    </tr>\n",
       "    <tr>\n",
       "      <th>Non-Achieving</th>\n",
       "      <td>0.023256</td>\n",
       "    </tr>\n",
       "    <tr>\n",
       "      <th>B</th>\n",
       "      <th>Achieving</th>\n",
       "      <td>0.055456</td>\n",
       "    </tr>\n",
       "  </tbody>\n",
       "</table>\n",
       "</div>"
      ],
      "text/plain": [
       "                                                             percent\n",
       "LoanOriginationQuarter ProsperRating (Alpha) LoanStatus             \n",
       "2009Q3                 AA                    Achieving      0.144902\n",
       "                                             Non-Achieving  0.010733\n",
       "                       A                     Achieving      0.216458\n",
       "                                             Non-Achieving  0.023256\n",
       "                       B                     Achieving      0.055456"
      ]
     },
     "execution_count": 158,
     "metadata": {},
     "output_type": "execute_result"
    }
   ],
   "source": [
    "# converts count_rating series info a Dataframe\n",
    "cr = (pd.Series.to_frame(count_rating))\n",
    "cr.head()"
   ]
  },
  {
   "cell_type": "code",
   "execution_count": 159,
   "metadata": {},
   "outputs": [
    {
     "name": "stdout",
     "output_type": "stream",
     "text": [
      "<class 'pandas.core.frame.DataFrame'>\n",
      "MultiIndex: 266 entries, (2009Q3, AA, Achieving) to (2014Q1, HR, Non-Achieving)\n",
      "Data columns (total 1 columns):\n",
      "percent    266 non-null float64\n",
      "dtypes: float64(1)\n",
      "memory usage: 4.3+ KB\n"
     ]
    }
   ],
   "source": [
    "cr.info()"
   ]
  },
  {
   "cell_type": "code",
   "execution_count": 160,
   "metadata": {},
   "outputs": [
    {
     "name": "stdout",
     "output_type": "stream",
     "text": [
      "<class 'pandas.core.frame.DataFrame'>\n",
      "RangeIndex: 266 entries, 0 to 265\n",
      "Data columns (total 4 columns):\n",
      "LoanOriginationQuarter    266 non-null object\n",
      "ProsperRating (Alpha)     266 non-null category\n",
      "LoanStatus                266 non-null object\n",
      "percent                   266 non-null float64\n",
      "dtypes: category(1), float64(1), object(2)\n",
      "memory usage: 6.9+ KB\n"
     ]
    }
   ],
   "source": [
    "#reset index for plotting purposes\n",
    "dfcr = cr.reset_index()\n",
    "dfcr.info()"
   ]
  },
  {
   "cell_type": "code",
   "execution_count": 161,
   "metadata": {},
   "outputs": [
    {
     "data": {
      "text/html": [
       "<div>\n",
       "<style scoped>\n",
       "    .dataframe tbody tr th:only-of-type {\n",
       "        vertical-align: middle;\n",
       "    }\n",
       "\n",
       "    .dataframe tbody tr th {\n",
       "        vertical-align: top;\n",
       "    }\n",
       "\n",
       "    .dataframe thead th {\n",
       "        text-align: right;\n",
       "    }\n",
       "</style>\n",
       "<table border=\"1\" class=\"dataframe\">\n",
       "  <thead>\n",
       "    <tr style=\"text-align: right;\">\n",
       "      <th></th>\n",
       "      <th>LoanOriginationQuarter</th>\n",
       "      <th>ProsperRating (Alpha)</th>\n",
       "      <th>LoanStatus</th>\n",
       "      <th>percent</th>\n",
       "    </tr>\n",
       "  </thead>\n",
       "  <tbody>\n",
       "    <tr>\n",
       "      <th>261</th>\n",
       "      <td>2014Q1</td>\n",
       "      <td>D</td>\n",
       "      <td>Non-Achieving</td>\n",
       "      <td>0.000164</td>\n",
       "    </tr>\n",
       "    <tr>\n",
       "      <th>262</th>\n",
       "      <td>2014Q1</td>\n",
       "      <td>E</td>\n",
       "      <td>Achieving</td>\n",
       "      <td>0.069422</td>\n",
       "    </tr>\n",
       "    <tr>\n",
       "      <th>263</th>\n",
       "      <td>2014Q1</td>\n",
       "      <td>E</td>\n",
       "      <td>Non-Achieving</td>\n",
       "      <td>0.000246</td>\n",
       "    </tr>\n",
       "    <tr>\n",
       "      <th>264</th>\n",
       "      <td>2014Q1</td>\n",
       "      <td>HR</td>\n",
       "      <td>Achieving</td>\n",
       "      <td>0.008216</td>\n",
       "    </tr>\n",
       "    <tr>\n",
       "      <th>265</th>\n",
       "      <td>2014Q1</td>\n",
       "      <td>HR</td>\n",
       "      <td>Non-Achieving</td>\n",
       "      <td>0.000246</td>\n",
       "    </tr>\n",
       "  </tbody>\n",
       "</table>\n",
       "</div>"
      ],
      "text/plain": [
       "    LoanOriginationQuarter ProsperRating (Alpha)     LoanStatus   percent\n",
       "261                 2014Q1                     D  Non-Achieving  0.000164\n",
       "262                 2014Q1                     E      Achieving  0.069422\n",
       "263                 2014Q1                     E  Non-Achieving  0.000246\n",
       "264                 2014Q1                    HR      Achieving  0.008216\n",
       "265                 2014Q1                    HR  Non-Achieving  0.000246"
      ]
     },
     "execution_count": 161,
     "metadata": {},
     "output_type": "execute_result"
    }
   ],
   "source": [
    "dfcr.tail()"
   ]
  },
  {
   "cell_type": "code",
   "execution_count": 164,
   "metadata": {},
   "outputs": [
    {
     "data": {
      "text/plain": [
       "(array([ 0,  1,  2,  3,  4,  5,  6,  7,  8,  9, 10, 11, 12, 13, 14, 15, 16,\n",
       "        17, 18]), <a list of 19 Text xticklabel objects>)"
      ]
     },
     "execution_count": 164,
     "metadata": {},
     "output_type": "execute_result"
    },
    {
     "data": {
      "image/png": "[encoded data removed]",
      "text/plain": [
       "<Figure size 720x360 with 1 Axes>"
      ]
     },
     "metadata": {
      "needs_background": "light"
     },
     "output_type": "display_data"
    }
   ],
   "source": [
    "# plot proportion of Non-Achieving loans by Prosper Rating by quarter\n",
    "plt.figure(figsize = [10, 5])\n",
    "sb.barplot(data = dfcr.query('LoanStatus == \"Non-Achieving\"'), x = 'LoanOriginationQuarter', y = 'percent', hue = 'ProsperRating (Alpha)',\n",
    "          palette = 'viridis')\n",
    "plt.xticks(rotation = 90)"
   ]
  },
  {
   "cell_type": "markdown",
   "metadata": {},
   "source": [
    "The graph shows that the lower risk Prosper Rating always outperform the higher risk ratings.\n"
   ]
  },
  {
   "cell_type": "code",
   "execution_count": 162,
   "metadata": {},
   "outputs": [
    {
     "name": "stderr",
     "output_type": "stream",
     "text": [
      "C:\\Users\\ChristianByer\\Anaconda2\\lib\\site-packages\\matplotlib\\legend.py:504: UserWarning: Automatic legend placement (loc=\"best\") not implemented for figure legend. Falling back on \"upper right\".\n",
      "  warnings.warn('Automatic legend placement (loc=\"best\") not '\n"
     ]
    },
    {
     "data": {
      "text/plain": [
       "<matplotlib.legend.Legend at 0x1fa82d2f550>"
      ]
     },
     "execution_count": 162,
     "metadata": {},
     "output_type": "execute_result"
    },
    {
     "data": {
      "image/png": "[encoded data removed]",
      "text/plain": [
       "<Figure size 432x288 with 2 Axes>"
      ]
     },
     "metadata": {
      "needs_background": "light"
     },
     "output_type": "display_data"
    }
   ],
   "source": [
    "fig, ax1 = plt.subplots()\n",
    "ax = df_copy.groupby('LoanOriginationQuarter')['LP_NetPrincipalLoss'].mean().plot(color = 'blue')\n",
    "ax2 = df_copy.groupby('LoanOriginationQuarter')['CreditScoreRangeUpper'].mean().plot(secondary_y = True, color = 'red')\n",
    "fig = ax.get_figure()\n",
    "ax.set_xlabel('Loan Origination Quarter')\n",
    "ax.set_ylabel('Net Principal Loss', color = 'b')\n",
    "ax2.set_ylabel('Credit Score Avg', color = 'r')\n",
    "fig.legend(loc = \"best\")\n"
   ]
  },
  {
   "cell_type": "markdown",
   "metadata": {},
   "source": [
    "This chart shows how net pricipal loss went down over time and credit scores went up over time"
   ]
  },
  {
   "cell_type": "markdown",
   "metadata": {},
   "source": [
    "# MultiVariate Analysis"
   ]
  },
  {
   "cell_type": "markdown",
   "metadata": {},
   "source": [
    "## Talk about some of the relationships you observed in this part of the investigation. Were there features that strengthened each other in terms of looking at your feature(s) of interest?\n",
    "\n",
    "The relationships I observed were how credit score was the best predictor of loan status.  The better the credit score the more likely the loan was considered Achieving.  I also saw there was a change in loan requirements after 2009.  This was the year the company increased the minimum credit score to be able to obtain a loan and in turn saw the company lose less money.  \n",
    "\n",
    "## Were there any interesting or surprising interactions between features?\n",
    "\n",
    "I am suprised by how much variance there is from quarter to quarter of the proportion of achieving loans to unachieving loans."
   ]
  }
 ],
 "metadata": {
  "kernelspec": {
   "display_name": "Python 3",
   "language": "python",
   "name": "python3"
  },
  "language_info": {
   "codemirror_mode": {
    "name": "ipython",
    "version": 3
   },
   "file_extension": ".py",
   "mimetype": "text/x-python",
   "name": "python",
   "nbconvert_exporter": "python",
   "pygments_lexer": "ipython3",
   "version": "3.7.0"
  }
 },
 "nbformat": 4,
 "nbformat_minor": 2
}
